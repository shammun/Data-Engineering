{
 "cells": [
  {
   "cell_type": "markdown",
   "metadata": {
    "editable": true
   },
   "source": [
    "# Udacity Data Engineer Nanodegree - Capstone Project"
   ]
  },
  {
   "cell_type": "markdown",
   "metadata": {
    "editable": true
   },
   "source": [
    "## Project Summary"
   ]
  },
  {
   "cell_type": "markdown",
   "metadata": {
    "editable": true
   },
   "source": [
    "This project builds upon 4 datasetrs included in the Udacity project workspace. The workflow for this project is described below:\n",
    "\n",
    "1. Downloading and uploading the data to S3 bucket\n",
    "2. Exploring all the data to understand them, clean them, and possibly save a new copy\n",
    "3. Define the Data Model  based on the exploration \n",
    "4. Design ETL as such and then run it to model the data"
   ]
  },
  {
   "cell_type": "code",
   "execution_count": 180,
   "metadata": {
    "editable": true
   },
   "outputs": [],
   "source": [
    "import pandas as pd\n",
    "import pyspark\n",
    "import configparser\n",
    "from datetime import datetime\n",
    "import os\n",
    "import glob\n",
    "from pyspark.sql import SparkSession\n",
    "from pyspark.sql.functions import udf, col\n",
    "from pyspark.sql.functions import year, month, dayofmonth, dayofweek, hour, weekofyear, date_format, to_date\n",
    "from pyspark.sql.functions import lit, expr\n",
    "from pyspark.sql.functions import monotonically_increasing_id\n",
    "from pyspark.sql.types import StructType, StructField, DoubleType, StringType, IntegerType, TimestampType"
   ]
  },
  {
   "cell_type": "code",
   "execution_count": 181,
   "metadata": {
    "editable": true
   },
   "outputs": [],
   "source": [
    "config = configparser.ConfigParser()\n",
    "config.read('config.cfg')\n",
    "\n",
    "os.environ['AWS_ACCESS_KEY_ID']=config.get('AWS', 'AWS_ACCESS_KEY_ID')\n",
    "os.environ['AWS_SECRET_ACCESS_KEY']=config.get('AWS', 'AWS_SECRET_ACCESS_KEY')\n",
    "AWS_ACCESS_KEY_ID = config.get('AWS', 'AWS_ACCESS_KEY_ID')\n",
    "AWS_SECRET_ACCESS_KEY = config.get('AWS', 'AWS_SECRET_ACCESS_KEY')"
   ]
  },
  {
   "cell_type": "markdown",
   "metadata": {
    "editable": true
   },
   "source": [
    "## Step 1: Downloading and uploading data to S3 bucket"
   ]
  },
  {
   "cell_type": "markdown",
   "metadata": {
    "editable": true
   },
   "source": [
    "### Datasets\n",
    "For this project, I will be mainly working wiht the following 4 datasets hosted in the Udacity Workspace."
   ]
  },
  {
   "cell_type": "markdown",
   "metadata": {
    "editable": true
   },
   "source": [
    "* **I94 Immigration Data:** This data comes from the US National Tourism and Trade Office. A data dictionary is included in the workspace. [This](https://travel.trade.gov/research/reports/i94/historical/2016.html) is where the data comes from. There's also a sample file so you can take a look at the data in csv format before reading it all in. "
   ]
  },
  {
   "cell_type": "markdown",
   "metadata": {
    "editable": true
   },
   "source": [
    "* **World Temperature Data:** This dataset came from Kaggle. You can read more about it [here](https://www.kaggle.com/berkeleyearth/climate-change-earth-surface-temperature-data)."
   ]
  },
  {
   "cell_type": "markdown",
   "metadata": {
    "editable": true
   },
   "source": [
    "* **U.S. City Demographic Data:** This data comes from OpenSoft. You can read more about it [here]().\n",
    "* **Airport Code Table:** This is a simple table of airport codes and corresponding cities. It comes from [here](https://datahub.io/core/airport-codes#data)."
   ]
  },
  {
   "cell_type": "markdown",
   "metadata": {
    "editable": true
   },
   "source": [
    "### Downloading and uploading to S3"
   ]
  },
  {
   "cell_type": "markdown",
   "metadata": {
    "editable": true
   },
   "source": [
    "#### Downloading data"
   ]
  },
  {
   "cell_type": "markdown",
   "metadata": {
    "editable": true
   },
   "source": [
    "* I94 Immigration Data: \n",
    "The data is in the  folder with the following path: `../../data/18-83510-I94-Data-2016/`. To download this, I ran the following command in the command prompt.\n",
    "`!zip -r data.zip ../../data/18-83510-I94-Data-2016` This created a zip folder named **data.zip** in the working directory. Now, I just downloaded this to my local computer by right clicking on it and clicking on **Download**. "
   ]
  },
  {
   "cell_type": "markdown",
   "metadata": {
    "editable": true
   },
   "source": [
    "* World Temperature Data: \n",
    "The data is in the folder with the following path: `../../data2/`. To download this, I ran the following command in the command prompt.\n",
    "`!zip -r data2.zip ../../data2`\n",
    "This created a zip folder named **data2.zip** in the working directory. Now, like before, I downloaded this to my local computer by right clicking on this zipped folder and clicking on **Download**. "
   ]
  },
  {
   "cell_type": "markdown",
   "metadata": {
    "editable": true
   },
   "source": [
    "* U.S. City Demographic Data: This data is in the working directory as a single csv file named us-cities-demographics.csv and so just right click it and download.\n",
    "* Airport Code Table: This file named as airport-codes_csv.csv can also be directly downloaded to the local computer."
   ]
  },
  {
   "cell_type": "markdown",
   "metadata": {
    "editable": true
   },
   "source": [
    "#### Uploading to S3\n",
    "Now, upload all of these data to a S3 bucket so that this can be later accessed through Spark and processed as such."
   ]
  },
  {
   "cell_type": "markdown",
   "metadata": {
    "editable": true
   },
   "source": [
    "## Step 2: Exploring all these data to understand them"
   ]
  },
  {
   "cell_type": "markdown",
   "metadata": {
    "editable": true
   },
   "source": [
    "### Step 2.a. Explore I94_SAS_Labels_Descriptions.SAS"
   ]
  },
  {
   "cell_type": "markdown",
   "metadata": {
    "editable": true
   },
   "source": [
    "#### First get the country code and name and then write this as CSV file."
   ]
  },
  {
   "cell_type": "markdown",
   "metadata": {
    "editable": true
   },
   "source": [
    "* Country code"
   ]
  },
  {
   "cell_type": "code",
   "execution_count": 160,
   "metadata": {
    "editable": true
   },
   "outputs": [],
   "source": [
    "with open(\"I94_SAS_Labels_Descriptions.SAS\") as file:\n",
    "    auxiliary_data = file.readlines()"
   ]
  },
  {
   "cell_type": "markdown",
   "metadata": {
    "editable": true
   },
   "source": [
    "As the data on this starts from 10th row and ends on 298th row, I will now get all these data by looping through these lines."
   ]
  },
  {
   "cell_type": "code",
   "execution_count": 27,
   "metadata": {
    "editable": true
   },
   "outputs": [],
   "source": [
    "country = {}\n",
    "for countries in auxiliary_data[9:298]:\n",
    "    line = countries.split(\"=\")\n",
    "    code = line[0].strip()\n",
    "    country_name = line[1].strip().strip(\"'\")\n",
    "    country[code] = country_name"
   ]
  },
  {
   "cell_type": "code",
   "execution_count": 32,
   "metadata": {
    "editable": true
   },
   "outputs": [],
   "source": [
    "country_pd = pd.DataFrame(list(country.items()), columns = ['code', 'country'])"
   ]
  },
  {
   "cell_type": "code",
   "execution_count": 33,
   "metadata": {
    "editable": true
   },
   "outputs": [
    {
     "data": {
      "text/html": [
       "<div>\n",
       "<style scoped>\n",
       "    .dataframe tbody tr th:only-of-type {\n",
       "        vertical-align: middle;\n",
       "    }\n",
       "\n",
       "    .dataframe tbody tr th {\n",
       "        vertical-align: top;\n",
       "    }\n",
       "\n",
       "    .dataframe thead th {\n",
       "        text-align: right;\n",
       "    }\n",
       "</style>\n",
       "<table border=\"1\" class=\"dataframe\">\n",
       "  <thead>\n",
       "    <tr style=\"text-align: right;\">\n",
       "      <th></th>\n",
       "      <th>code</th>\n",
       "      <th>country</th>\n",
       "    </tr>\n",
       "  </thead>\n",
       "  <tbody>\n",
       "    <tr>\n",
       "      <th>0</th>\n",
       "      <td>582</td>\n",
       "      <td>MEXICO Air Sea, and Not Reported (I-94, no lan...</td>\n",
       "    </tr>\n",
       "    <tr>\n",
       "      <th>1</th>\n",
       "      <td>236</td>\n",
       "      <td>AFGHANISTAN</td>\n",
       "    </tr>\n",
       "    <tr>\n",
       "      <th>2</th>\n",
       "      <td>101</td>\n",
       "      <td>ALBANIA</td>\n",
       "    </tr>\n",
       "    <tr>\n",
       "      <th>3</th>\n",
       "      <td>316</td>\n",
       "      <td>ALGERIA</td>\n",
       "    </tr>\n",
       "    <tr>\n",
       "      <th>4</th>\n",
       "      <td>102</td>\n",
       "      <td>ANDORRA</td>\n",
       "    </tr>\n",
       "  </tbody>\n",
       "</table>\n",
       "</div>"
      ],
      "text/plain": [
       "  code                                            country\n",
       "0  582  MEXICO Air Sea, and Not Reported (I-94, no lan...\n",
       "1  236                                        AFGHANISTAN\n",
       "2  101                                            ALBANIA\n",
       "3  316                                            ALGERIA\n",
       "4  102                                            ANDORRA"
      ]
     },
     "execution_count": 33,
     "metadata": {},
     "output_type": "execute_result"
    }
   ],
   "source": [
    "country_pd.head(5)"
   ]
  },
  {
   "cell_type": "code",
   "execution_count": 34,
   "metadata": {
    "editable": true
   },
   "outputs": [],
   "source": [
    "# Write the data to the directory\n",
    "country_pd.to_csv(\"countries.csv\", index = False)"
   ]
  },
  {
   "cell_type": "markdown",
   "metadata": {
    "editable": true
   },
   "source": [
    "#### Secondly, get the city code and name and then write this as CSV file."
   ]
  },
  {
   "cell_type": "markdown",
   "metadata": {
    "editable": true
   },
   "source": [
    "* City code"
   ]
  },
  {
   "cell_type": "code",
   "execution_count": 4,
   "metadata": {
    "editable": true
   },
   "outputs": [],
   "source": [
    "city = {}\n",
    "for cities in auxiliary_data[302:962]:\n",
    "    line = cities.split(\"=\")\n",
    "    code = line[0].strip().strip(\"'\")\n",
    "    city_name = line[1].strip().strip(\"'\")\n",
    "    city[code] = city_name"
   ]
  },
  {
   "cell_type": "code",
   "execution_count": 5,
   "metadata": {
    "editable": true
   },
   "outputs": [],
   "source": [
    "city_pd = pd.DataFrame(list(city.items()), columns = ['code', 'city'])"
   ]
  },
  {
   "cell_type": "code",
   "execution_count": 7,
   "metadata": {
    "editable": true
   },
   "outputs": [
    {
     "data": {
      "text/html": [
       "<div>\n",
       "<style scoped>\n",
       "    .dataframe tbody tr th:only-of-type {\n",
       "        vertical-align: middle;\n",
       "    }\n",
       "\n",
       "    .dataframe tbody tr th {\n",
       "        vertical-align: top;\n",
       "    }\n",
       "\n",
       "    .dataframe thead th {\n",
       "        text-align: right;\n",
       "    }\n",
       "</style>\n",
       "<table border=\"1\" class=\"dataframe\">\n",
       "  <thead>\n",
       "    <tr style=\"text-align: right;\">\n",
       "      <th></th>\n",
       "      <th>code</th>\n",
       "      <th>city</th>\n",
       "    </tr>\n",
       "  </thead>\n",
       "  <tbody>\n",
       "    <tr>\n",
       "      <th>0</th>\n",
       "      <td>ALC</td>\n",
       "      <td>ALCAN, AK</td>\n",
       "    </tr>\n",
       "    <tr>\n",
       "      <th>1</th>\n",
       "      <td>ANC</td>\n",
       "      <td>ANCHORAGE, AK</td>\n",
       "    </tr>\n",
       "    <tr>\n",
       "      <th>2</th>\n",
       "      <td>BAR</td>\n",
       "      <td>BAKER AAF - BAKER ISLAND, AK</td>\n",
       "    </tr>\n",
       "    <tr>\n",
       "      <th>3</th>\n",
       "      <td>DAC</td>\n",
       "      <td>DALTONS CACHE, AK</td>\n",
       "    </tr>\n",
       "    <tr>\n",
       "      <th>4</th>\n",
       "      <td>PIZ</td>\n",
       "      <td>DEW STATION PT LAY DEW, AK</td>\n",
       "    </tr>\n",
       "  </tbody>\n",
       "</table>\n",
       "</div>"
      ],
      "text/plain": [
       "  code                          city\n",
       "0  ALC        ALCAN, AK             \n",
       "1  ANC        ANCHORAGE, AK         \n",
       "2  BAR  BAKER AAF - BAKER ISLAND, AK\n",
       "3  DAC        DALTONS CACHE, AK     \n",
       "4  PIZ    DEW STATION PT LAY DEW, AK"
      ]
     },
     "execution_count": 7,
     "metadata": {},
     "output_type": "execute_result"
    }
   ],
   "source": [
    "city_pd.head()"
   ]
  },
  {
   "cell_type": "code",
   "execution_count": 8,
   "metadata": {
    "editable": true
   },
   "outputs": [],
   "source": [
    "# Write the data to the directory\n",
    "city_pd.to_csv(\"cities.csv\", index = False)"
   ]
  },
  {
   "cell_type": "markdown",
   "metadata": {
    "editable": true
   },
   "source": [
    "#### Thirdly, get the mode code and name and then write this as CSV file."
   ]
  },
  {
   "cell_type": "markdown",
   "metadata": {
    "editable": true
   },
   "source": [
    "* Mode code"
   ]
  },
  {
   "cell_type": "code",
   "execution_count": 20,
   "metadata": {
    "editable": true
   },
   "outputs": [],
   "source": [
    "mode = {}\n",
    "for modes in auxiliary_data[972:976]:\n",
    "    line = modes.split(\"=\")\n",
    "    code = line[0].strip()\n",
    "    mode_name = line[1].strip().strip(\"'\").strip(\";\").strip(\"'\")\n",
    "    mode[code] = mode_name"
   ]
  },
  {
   "cell_type": "code",
   "execution_count": 21,
   "metadata": {
    "editable": true
   },
   "outputs": [],
   "source": [
    "mode_pd = pd.DataFrame(list(mode.items()), columns = ['code', 'mode'])"
   ]
  },
  {
   "cell_type": "code",
   "execution_count": 22,
   "metadata": {
    "editable": true
   },
   "outputs": [
    {
     "data": {
      "text/html": [
       "<div>\n",
       "<style scoped>\n",
       "    .dataframe tbody tr th:only-of-type {\n",
       "        vertical-align: middle;\n",
       "    }\n",
       "\n",
       "    .dataframe tbody tr th {\n",
       "        vertical-align: top;\n",
       "    }\n",
       "\n",
       "    .dataframe thead th {\n",
       "        text-align: right;\n",
       "    }\n",
       "</style>\n",
       "<table border=\"1\" class=\"dataframe\">\n",
       "  <thead>\n",
       "    <tr style=\"text-align: right;\">\n",
       "      <th></th>\n",
       "      <th>code</th>\n",
       "      <th>mode</th>\n",
       "    </tr>\n",
       "  </thead>\n",
       "  <tbody>\n",
       "    <tr>\n",
       "      <th>0</th>\n",
       "      <td>1</td>\n",
       "      <td>Air</td>\n",
       "    </tr>\n",
       "    <tr>\n",
       "      <th>1</th>\n",
       "      <td>2</td>\n",
       "      <td>Sea</td>\n",
       "    </tr>\n",
       "    <tr>\n",
       "      <th>2</th>\n",
       "      <td>3</td>\n",
       "      <td>Land</td>\n",
       "    </tr>\n",
       "    <tr>\n",
       "      <th>3</th>\n",
       "      <td>9</td>\n",
       "      <td>Not reported'</td>\n",
       "    </tr>\n",
       "  </tbody>\n",
       "</table>\n",
       "</div>"
      ],
      "text/plain": [
       "  code            mode\n",
       "0    1             Air\n",
       "1    2             Sea\n",
       "2    3            Land\n",
       "3    9  Not reported' "
      ]
     },
     "execution_count": 22,
     "metadata": {},
     "output_type": "execute_result"
    }
   ],
   "source": [
    "mode_pd.head()"
   ]
  },
  {
   "cell_type": "code",
   "execution_count": 23,
   "metadata": {
    "editable": true
   },
   "outputs": [],
   "source": [
    "# Write the data to the directory\n",
    "mode_pd.to_csv(\"mode.csv\", index = False)"
   ]
  },
  {
   "cell_type": "markdown",
   "metadata": {
    "editable": true
   },
   "source": [
    "#### Fourthly, get the state code and name and then write this as CSV file.\n",
    "* State code"
   ]
  },
  {
   "cell_type": "code",
   "execution_count": 24,
   "metadata": {
    "editable": true
   },
   "outputs": [],
   "source": [
    "state = {}\n",
    "for states in auxiliary_data[981:1036]:\n",
    "    line = states.split(\"=\")\n",
    "    code = line[0].strip().strip(\"'\")\n",
    "    state_name = line[1].strip().strip(\"'\")\n",
    "    state[code] = state_name"
   ]
  },
  {
   "cell_type": "code",
   "execution_count": 25,
   "metadata": {
    "editable": true
   },
   "outputs": [],
   "source": [
    "state_pd = pd.DataFrame(list(state.items()), columns = ['code', 'state'])"
   ]
  },
  {
   "cell_type": "code",
   "execution_count": 26,
   "metadata": {
    "editable": true
   },
   "outputs": [
    {
     "data": {
      "text/html": [
       "<div>\n",
       "<style scoped>\n",
       "    .dataframe tbody tr th:only-of-type {\n",
       "        vertical-align: middle;\n",
       "    }\n",
       "\n",
       "    .dataframe tbody tr th {\n",
       "        vertical-align: top;\n",
       "    }\n",
       "\n",
       "    .dataframe thead th {\n",
       "        text-align: right;\n",
       "    }\n",
       "</style>\n",
       "<table border=\"1\" class=\"dataframe\">\n",
       "  <thead>\n",
       "    <tr style=\"text-align: right;\">\n",
       "      <th></th>\n",
       "      <th>code</th>\n",
       "      <th>state</th>\n",
       "    </tr>\n",
       "  </thead>\n",
       "  <tbody>\n",
       "    <tr>\n",
       "      <th>0</th>\n",
       "      <td>AL</td>\n",
       "      <td>ALABAMA</td>\n",
       "    </tr>\n",
       "    <tr>\n",
       "      <th>1</th>\n",
       "      <td>AK</td>\n",
       "      <td>ALASKA</td>\n",
       "    </tr>\n",
       "    <tr>\n",
       "      <th>2</th>\n",
       "      <td>AZ</td>\n",
       "      <td>ARIZONA</td>\n",
       "    </tr>\n",
       "    <tr>\n",
       "      <th>3</th>\n",
       "      <td>AR</td>\n",
       "      <td>ARKANSAS</td>\n",
       "    </tr>\n",
       "    <tr>\n",
       "      <th>4</th>\n",
       "      <td>CA</td>\n",
       "      <td>CALIFORNIA</td>\n",
       "    </tr>\n",
       "  </tbody>\n",
       "</table>\n",
       "</div>"
      ],
      "text/plain": [
       "  code       state\n",
       "0   AL     ALABAMA\n",
       "1   AK      ALASKA\n",
       "2   AZ     ARIZONA\n",
       "3   AR    ARKANSAS\n",
       "4   CA  CALIFORNIA"
      ]
     },
     "execution_count": 26,
     "metadata": {},
     "output_type": "execute_result"
    }
   ],
   "source": [
    "state_pd.head()"
   ]
  },
  {
   "cell_type": "code",
   "execution_count": 27,
   "metadata": {
    "editable": true
   },
   "outputs": [],
   "source": [
    "# Write the data to the directory\n",
    "state_pd.to_csv(\"state.csv\", index = False)"
   ]
  },
  {
   "cell_type": "markdown",
   "metadata": {
    "editable": true
   },
   "source": [
    "#### Fifthly, get the visa code and name and then write this as CSV file.\n",
    "* Visa code"
   ]
  },
  {
   "cell_type": "code",
   "execution_count": 28,
   "metadata": {
    "editable": true
   },
   "outputs": [],
   "source": [
    "visa = {}\n",
    "for visas in auxiliary_data[1046:1049]:\n",
    "    line = visas.split(\"=\")\n",
    "    code = line[0].strip()\n",
    "    visa_name = line[1].strip()\n",
    "    visa[code] = visa_name"
   ]
  },
  {
   "cell_type": "code",
   "execution_count": 29,
   "metadata": {
    "editable": true
   },
   "outputs": [],
   "source": [
    "visa_pd = pd.DataFrame(list(visa.items()), columns = ['code', 'visa'])"
   ]
  },
  {
   "cell_type": "code",
   "execution_count": 30,
   "metadata": {
    "editable": true
   },
   "outputs": [],
   "source": [
    "# Write the data to the directory\n",
    "visa_pd.to_csv(\"visa.csv\", index = False)"
   ]
  },
  {
   "cell_type": "code",
   "execution_count": 31,
   "metadata": {
    "editable": true
   },
   "outputs": [
    {
     "data": {
      "text/html": [
       "<div>\n",
       "<style scoped>\n",
       "    .dataframe tbody tr th:only-of-type {\n",
       "        vertical-align: middle;\n",
       "    }\n",
       "\n",
       "    .dataframe tbody tr th {\n",
       "        vertical-align: top;\n",
       "    }\n",
       "\n",
       "    .dataframe thead th {\n",
       "        text-align: right;\n",
       "    }\n",
       "</style>\n",
       "<table border=\"1\" class=\"dataframe\">\n",
       "  <thead>\n",
       "    <tr style=\"text-align: right;\">\n",
       "      <th></th>\n",
       "      <th>code</th>\n",
       "      <th>visa</th>\n",
       "    </tr>\n",
       "  </thead>\n",
       "  <tbody>\n",
       "    <tr>\n",
       "      <th>0</th>\n",
       "      <td>1</td>\n",
       "      <td>Business</td>\n",
       "    </tr>\n",
       "    <tr>\n",
       "      <th>1</th>\n",
       "      <td>2</td>\n",
       "      <td>Pleasure</td>\n",
       "    </tr>\n",
       "    <tr>\n",
       "      <th>2</th>\n",
       "      <td>3</td>\n",
       "      <td>Student</td>\n",
       "    </tr>\n",
       "  </tbody>\n",
       "</table>\n",
       "</div>"
      ],
      "text/plain": [
       "  code      visa\n",
       "0    1  Business\n",
       "1    2  Pleasure\n",
       "2    3   Student"
      ]
     },
     "execution_count": 31,
     "metadata": {},
     "output_type": "execute_result"
    }
   ],
   "source": [
    "visa_pd.head()"
   ]
  },
  {
   "cell_type": "markdown",
   "metadata": {
    "editable": true
   },
   "source": [
    "### Step 2.b. Explore I94 Immigration Data"
   ]
  },
  {
   "cell_type": "code",
   "execution_count": 3,
   "metadata": {
    "editable": true
   },
   "outputs": [],
   "source": [
    "immigration = pd.read_sas(\"../../data/18-83510-I94-Data-2016/i94_jun16_sub.sas7bdat\", \"sas7bdat\", encoding=\"ISO-8859-1\")"
   ]
  },
  {
   "cell_type": "code",
   "execution_count": 4,
   "metadata": {
    "editable": true
   },
   "outputs": [
    {
     "data": {
      "text/html": [
       "<div>\n",
       "<style scoped>\n",
       "    .dataframe tbody tr th:only-of-type {\n",
       "        vertical-align: middle;\n",
       "    }\n",
       "\n",
       "    .dataframe tbody tr th {\n",
       "        vertical-align: top;\n",
       "    }\n",
       "\n",
       "    .dataframe thead th {\n",
       "        text-align: right;\n",
       "    }\n",
       "</style>\n",
       "<table border=\"1\" class=\"dataframe\">\n",
       "  <thead>\n",
       "    <tr style=\"text-align: right;\">\n",
       "      <th></th>\n",
       "      <th>cicid</th>\n",
       "      <th>i94yr</th>\n",
       "      <th>i94mon</th>\n",
       "      <th>i94cit</th>\n",
       "      <th>i94res</th>\n",
       "      <th>i94port</th>\n",
       "      <th>arrdate</th>\n",
       "      <th>i94mode</th>\n",
       "      <th>i94addr</th>\n",
       "      <th>depdate</th>\n",
       "      <th>i94bir</th>\n",
       "      <th>i94visa</th>\n",
       "      <th>count</th>\n",
       "      <th>validres</th>\n",
       "      <th>delete_days</th>\n",
       "      <th>delete_mexl</th>\n",
       "      <th>delete_dup</th>\n",
       "      <th>delete_visa</th>\n",
       "      <th>delete_recdup</th>\n",
       "      <th>dtadfile</th>\n",
       "      <th>visapost</th>\n",
       "      <th>occup</th>\n",
       "      <th>entdepa</th>\n",
       "      <th>entdepd</th>\n",
       "      <th>entdepu</th>\n",
       "      <th>matflag</th>\n",
       "      <th>biryear</th>\n",
       "      <th>dtaddto</th>\n",
       "      <th>gender</th>\n",
       "      <th>insnum</th>\n",
       "      <th>airline</th>\n",
       "      <th>admnum</th>\n",
       "      <th>fltno</th>\n",
       "      <th>visatype</th>\n",
       "    </tr>\n",
       "  </thead>\n",
       "  <tbody>\n",
       "    <tr>\n",
       "      <th>0</th>\n",
       "      <td>4.0</td>\n",
       "      <td>2016.0</td>\n",
       "      <td>6.0</td>\n",
       "      <td>135.0</td>\n",
       "      <td>135.0</td>\n",
       "      <td>XXX</td>\n",
       "      <td>20612.0</td>\n",
       "      <td>NaN</td>\n",
       "      <td>NaN</td>\n",
       "      <td>NaN</td>\n",
       "      <td>59.0</td>\n",
       "      <td>2.0</td>\n",
       "      <td>1.0</td>\n",
       "      <td>1.0</td>\n",
       "      <td>0.0</td>\n",
       "      <td>0.0</td>\n",
       "      <td>0.0</td>\n",
       "      <td>0.0</td>\n",
       "      <td>0.0</td>\n",
       "      <td>NaN</td>\n",
       "      <td>NaN</td>\n",
       "      <td>NaN</td>\n",
       "      <td>Z</td>\n",
       "      <td>NaN</td>\n",
       "      <td>U</td>\n",
       "      <td>NaN</td>\n",
       "      <td>1957.0</td>\n",
       "      <td>10032016</td>\n",
       "      <td>NaN</td>\n",
       "      <td>NaN</td>\n",
       "      <td>NaN</td>\n",
       "      <td>1.493846e+10</td>\n",
       "      <td>NaN</td>\n",
       "      <td>WT</td>\n",
       "    </tr>\n",
       "    <tr>\n",
       "      <th>1</th>\n",
       "      <td>5.0</td>\n",
       "      <td>2016.0</td>\n",
       "      <td>6.0</td>\n",
       "      <td>135.0</td>\n",
       "      <td>135.0</td>\n",
       "      <td>XXX</td>\n",
       "      <td>20612.0</td>\n",
       "      <td>NaN</td>\n",
       "      <td>NaN</td>\n",
       "      <td>NaN</td>\n",
       "      <td>50.0</td>\n",
       "      <td>2.0</td>\n",
       "      <td>1.0</td>\n",
       "      <td>1.0</td>\n",
       "      <td>0.0</td>\n",
       "      <td>0.0</td>\n",
       "      <td>0.0</td>\n",
       "      <td>0.0</td>\n",
       "      <td>0.0</td>\n",
       "      <td>NaN</td>\n",
       "      <td>NaN</td>\n",
       "      <td>NaN</td>\n",
       "      <td>Z</td>\n",
       "      <td>NaN</td>\n",
       "      <td>U</td>\n",
       "      <td>NaN</td>\n",
       "      <td>1966.0</td>\n",
       "      <td>10032016</td>\n",
       "      <td>NaN</td>\n",
       "      <td>NaN</td>\n",
       "      <td>NaN</td>\n",
       "      <td>1.746006e+10</td>\n",
       "      <td>NaN</td>\n",
       "      <td>WT</td>\n",
       "    </tr>\n",
       "    <tr>\n",
       "      <th>2</th>\n",
       "      <td>6.0</td>\n",
       "      <td>2016.0</td>\n",
       "      <td>6.0</td>\n",
       "      <td>213.0</td>\n",
       "      <td>213.0</td>\n",
       "      <td>XXX</td>\n",
       "      <td>20609.0</td>\n",
       "      <td>NaN</td>\n",
       "      <td>NaN</td>\n",
       "      <td>NaN</td>\n",
       "      <td>27.0</td>\n",
       "      <td>3.0</td>\n",
       "      <td>1.0</td>\n",
       "      <td>1.0</td>\n",
       "      <td>0.0</td>\n",
       "      <td>0.0</td>\n",
       "      <td>0.0</td>\n",
       "      <td>0.0</td>\n",
       "      <td>0.0</td>\n",
       "      <td>NaN</td>\n",
       "      <td>NaN</td>\n",
       "      <td>NaN</td>\n",
       "      <td>T</td>\n",
       "      <td>NaN</td>\n",
       "      <td>U</td>\n",
       "      <td>NaN</td>\n",
       "      <td>1989.0</td>\n",
       "      <td>D/S</td>\n",
       "      <td>NaN</td>\n",
       "      <td>NaN</td>\n",
       "      <td>NaN</td>\n",
       "      <td>1.679298e+09</td>\n",
       "      <td>NaN</td>\n",
       "      <td>F1</td>\n",
       "    </tr>\n",
       "    <tr>\n",
       "      <th>3</th>\n",
       "      <td>7.0</td>\n",
       "      <td>2016.0</td>\n",
       "      <td>6.0</td>\n",
       "      <td>213.0</td>\n",
       "      <td>213.0</td>\n",
       "      <td>XXX</td>\n",
       "      <td>20611.0</td>\n",
       "      <td>NaN</td>\n",
       "      <td>NaN</td>\n",
       "      <td>NaN</td>\n",
       "      <td>23.0</td>\n",
       "      <td>3.0</td>\n",
       "      <td>1.0</td>\n",
       "      <td>1.0</td>\n",
       "      <td>0.0</td>\n",
       "      <td>0.0</td>\n",
       "      <td>0.0</td>\n",
       "      <td>0.0</td>\n",
       "      <td>0.0</td>\n",
       "      <td>NaN</td>\n",
       "      <td>NaN</td>\n",
       "      <td>NaN</td>\n",
       "      <td>T</td>\n",
       "      <td>NaN</td>\n",
       "      <td>U</td>\n",
       "      <td>NaN</td>\n",
       "      <td>1993.0</td>\n",
       "      <td>D/S</td>\n",
       "      <td>NaN</td>\n",
       "      <td>NaN</td>\n",
       "      <td>NaN</td>\n",
       "      <td>1.140963e+09</td>\n",
       "      <td>NaN</td>\n",
       "      <td>F1</td>\n",
       "    </tr>\n",
       "    <tr>\n",
       "      <th>4</th>\n",
       "      <td>16.0</td>\n",
       "      <td>2016.0</td>\n",
       "      <td>6.0</td>\n",
       "      <td>245.0</td>\n",
       "      <td>245.0</td>\n",
       "      <td>XXX</td>\n",
       "      <td>20632.0</td>\n",
       "      <td>NaN</td>\n",
       "      <td>NaN</td>\n",
       "      <td>NaN</td>\n",
       "      <td>24.0</td>\n",
       "      <td>3.0</td>\n",
       "      <td>1.0</td>\n",
       "      <td>1.0</td>\n",
       "      <td>0.0</td>\n",
       "      <td>0.0</td>\n",
       "      <td>0.0</td>\n",
       "      <td>0.0</td>\n",
       "      <td>0.0</td>\n",
       "      <td>NaN</td>\n",
       "      <td>NaN</td>\n",
       "      <td>NaN</td>\n",
       "      <td>T</td>\n",
       "      <td>NaN</td>\n",
       "      <td>U</td>\n",
       "      <td>NaN</td>\n",
       "      <td>1992.0</td>\n",
       "      <td>D/S</td>\n",
       "      <td>NaN</td>\n",
       "      <td>NaN</td>\n",
       "      <td>NaN</td>\n",
       "      <td>1.934535e+09</td>\n",
       "      <td>NaN</td>\n",
       "      <td>F1</td>\n",
       "    </tr>\n",
       "    <tr>\n",
       "      <th>5</th>\n",
       "      <td>19.0</td>\n",
       "      <td>2016.0</td>\n",
       "      <td>6.0</td>\n",
       "      <td>254.0</td>\n",
       "      <td>276.0</td>\n",
       "      <td>XXX</td>\n",
       "      <td>20612.0</td>\n",
       "      <td>NaN</td>\n",
       "      <td>NaN</td>\n",
       "      <td>NaN</td>\n",
       "      <td>21.0</td>\n",
       "      <td>3.0</td>\n",
       "      <td>1.0</td>\n",
       "      <td>1.0</td>\n",
       "      <td>0.0</td>\n",
       "      <td>0.0</td>\n",
       "      <td>0.0</td>\n",
       "      <td>0.0</td>\n",
       "      <td>0.0</td>\n",
       "      <td>NaN</td>\n",
       "      <td>NaN</td>\n",
       "      <td>NaN</td>\n",
       "      <td>T</td>\n",
       "      <td>NaN</td>\n",
       "      <td>U</td>\n",
       "      <td>NaN</td>\n",
       "      <td>1995.0</td>\n",
       "      <td>D/S</td>\n",
       "      <td>NaN</td>\n",
       "      <td>NaN</td>\n",
       "      <td>NaN</td>\n",
       "      <td>1.148758e+09</td>\n",
       "      <td>NaN</td>\n",
       "      <td>F1</td>\n",
       "    </tr>\n",
       "    <tr>\n",
       "      <th>6</th>\n",
       "      <td>27.0</td>\n",
       "      <td>2016.0</td>\n",
       "      <td>6.0</td>\n",
       "      <td>343.0</td>\n",
       "      <td>343.0</td>\n",
       "      <td>XXX</td>\n",
       "      <td>20611.0</td>\n",
       "      <td>NaN</td>\n",
       "      <td>NaN</td>\n",
       "      <td>NaN</td>\n",
       "      <td>32.0</td>\n",
       "      <td>3.0</td>\n",
       "      <td>1.0</td>\n",
       "      <td>1.0</td>\n",
       "      <td>0.0</td>\n",
       "      <td>0.0</td>\n",
       "      <td>0.0</td>\n",
       "      <td>0.0</td>\n",
       "      <td>0.0</td>\n",
       "      <td>NaN</td>\n",
       "      <td>NaN</td>\n",
       "      <td>NaN</td>\n",
       "      <td>T</td>\n",
       "      <td>NaN</td>\n",
       "      <td>U</td>\n",
       "      <td>NaN</td>\n",
       "      <td>1984.0</td>\n",
       "      <td>D/S</td>\n",
       "      <td>NaN</td>\n",
       "      <td>NaN</td>\n",
       "      <td>NaN</td>\n",
       "      <td>1.152545e+09</td>\n",
       "      <td>NaN</td>\n",
       "      <td>F1</td>\n",
       "    </tr>\n",
       "    <tr>\n",
       "      <th>7</th>\n",
       "      <td>33.0</td>\n",
       "      <td>2016.0</td>\n",
       "      <td>6.0</td>\n",
       "      <td>582.0</td>\n",
       "      <td>582.0</td>\n",
       "      <td>XXX</td>\n",
       "      <td>20612.0</td>\n",
       "      <td>NaN</td>\n",
       "      <td>NaN</td>\n",
       "      <td>NaN</td>\n",
       "      <td>18.0</td>\n",
       "      <td>3.0</td>\n",
       "      <td>1.0</td>\n",
       "      <td>1.0</td>\n",
       "      <td>0.0</td>\n",
       "      <td>0.0</td>\n",
       "      <td>0.0</td>\n",
       "      <td>0.0</td>\n",
       "      <td>0.0</td>\n",
       "      <td>NaN</td>\n",
       "      <td>NaN</td>\n",
       "      <td>NaN</td>\n",
       "      <td>T</td>\n",
       "      <td>NaN</td>\n",
       "      <td>U</td>\n",
       "      <td>NaN</td>\n",
       "      <td>1998.0</td>\n",
       "      <td>D/S</td>\n",
       "      <td>NaN</td>\n",
       "      <td>NaN</td>\n",
       "      <td>NaN</td>\n",
       "      <td>1.150900e+09</td>\n",
       "      <td>NaN</td>\n",
       "      <td>F2</td>\n",
       "    </tr>\n",
       "    <tr>\n",
       "      <th>8</th>\n",
       "      <td>38.0</td>\n",
       "      <td>2016.0</td>\n",
       "      <td>6.0</td>\n",
       "      <td>687.0</td>\n",
       "      <td>687.0</td>\n",
       "      <td>XXX</td>\n",
       "      <td>20623.0</td>\n",
       "      <td>NaN</td>\n",
       "      <td>NaN</td>\n",
       "      <td>NaN</td>\n",
       "      <td>19.0</td>\n",
       "      <td>1.0</td>\n",
       "      <td>1.0</td>\n",
       "      <td>1.0</td>\n",
       "      <td>0.0</td>\n",
       "      <td>0.0</td>\n",
       "      <td>0.0</td>\n",
       "      <td>0.0</td>\n",
       "      <td>0.0</td>\n",
       "      <td>NaN</td>\n",
       "      <td>NaN</td>\n",
       "      <td>NaN</td>\n",
       "      <td>U</td>\n",
       "      <td>NaN</td>\n",
       "      <td>U</td>\n",
       "      <td>NaN</td>\n",
       "      <td>1997.0</td>\n",
       "      <td>06172018</td>\n",
       "      <td>NaN</td>\n",
       "      <td>NaN</td>\n",
       "      <td>NaN</td>\n",
       "      <td>3.575378e+10</td>\n",
       "      <td>NaN</td>\n",
       "      <td>E2</td>\n",
       "    </tr>\n",
       "    <tr>\n",
       "      <th>9</th>\n",
       "      <td>39.0</td>\n",
       "      <td>2016.0</td>\n",
       "      <td>6.0</td>\n",
       "      <td>694.0</td>\n",
       "      <td>694.0</td>\n",
       "      <td>XXX</td>\n",
       "      <td>20611.0</td>\n",
       "      <td>NaN</td>\n",
       "      <td>NaN</td>\n",
       "      <td>NaN</td>\n",
       "      <td>20.0</td>\n",
       "      <td>3.0</td>\n",
       "      <td>1.0</td>\n",
       "      <td>1.0</td>\n",
       "      <td>0.0</td>\n",
       "      <td>0.0</td>\n",
       "      <td>0.0</td>\n",
       "      <td>0.0</td>\n",
       "      <td>0.0</td>\n",
       "      <td>NaN</td>\n",
       "      <td>NaN</td>\n",
       "      <td>NaN</td>\n",
       "      <td>U</td>\n",
       "      <td>NaN</td>\n",
       "      <td>U</td>\n",
       "      <td>NaN</td>\n",
       "      <td>1996.0</td>\n",
       "      <td>04162017</td>\n",
       "      <td>NaN</td>\n",
       "      <td>NaN</td>\n",
       "      <td>NaN</td>\n",
       "      <td>1.142101e+09</td>\n",
       "      <td>NaN</td>\n",
       "      <td>M1</td>\n",
       "    </tr>\n",
       "    <tr>\n",
       "      <th>10</th>\n",
       "      <td>41.0</td>\n",
       "      <td>2016.0</td>\n",
       "      <td>6.0</td>\n",
       "      <td>254.0</td>\n",
       "      <td>276.0</td>\n",
       "      <td>SFR</td>\n",
       "      <td>20623.0</td>\n",
       "      <td>1.0</td>\n",
       "      <td>CA</td>\n",
       "      <td>NaN</td>\n",
       "      <td>22.0</td>\n",
       "      <td>3.0</td>\n",
       "      <td>1.0</td>\n",
       "      <td>1.0</td>\n",
       "      <td>0.0</td>\n",
       "      <td>0.0</td>\n",
       "      <td>0.0</td>\n",
       "      <td>0.0</td>\n",
       "      <td>0.0</td>\n",
       "      <td>20160103</td>\n",
       "      <td>SEO</td>\n",
       "      <td>NaN</td>\n",
       "      <td>G</td>\n",
       "      <td>NaN</td>\n",
       "      <td>U</td>\n",
       "      <td>NaN</td>\n",
       "      <td>1994.0</td>\n",
       "      <td>D/S</td>\n",
       "      <td>F</td>\n",
       "      <td>NaN</td>\n",
       "      <td>KE</td>\n",
       "      <td>8.432352e+10</td>\n",
       "      <td>00023</td>\n",
       "      <td>F1</td>\n",
       "    </tr>\n",
       "    <tr>\n",
       "      <th>11</th>\n",
       "      <td>42.0</td>\n",
       "      <td>2016.0</td>\n",
       "      <td>6.0</td>\n",
       "      <td>254.0</td>\n",
       "      <td>276.0</td>\n",
       "      <td>SFR</td>\n",
       "      <td>20623.0</td>\n",
       "      <td>1.0</td>\n",
       "      <td>CA</td>\n",
       "      <td>NaN</td>\n",
       "      <td>27.0</td>\n",
       "      <td>3.0</td>\n",
       "      <td>1.0</td>\n",
       "      <td>1.0</td>\n",
       "      <td>0.0</td>\n",
       "      <td>0.0</td>\n",
       "      <td>0.0</td>\n",
       "      <td>0.0</td>\n",
       "      <td>0.0</td>\n",
       "      <td>20160131</td>\n",
       "      <td>SEO</td>\n",
       "      <td>STU</td>\n",
       "      <td>G</td>\n",
       "      <td>NaN</td>\n",
       "      <td>U</td>\n",
       "      <td>NaN</td>\n",
       "      <td>1989.0</td>\n",
       "      <td>D/S</td>\n",
       "      <td>M</td>\n",
       "      <td>NaN</td>\n",
       "      <td>KE</td>\n",
       "      <td>8.694424e+10</td>\n",
       "      <td>00023</td>\n",
       "      <td>F1</td>\n",
       "    </tr>\n",
       "    <tr>\n",
       "      <th>12</th>\n",
       "      <td>44.0</td>\n",
       "      <td>2016.0</td>\n",
       "      <td>6.0</td>\n",
       "      <td>127.0</td>\n",
       "      <td>127.0</td>\n",
       "      <td>HOU</td>\n",
       "      <td>20617.0</td>\n",
       "      <td>1.0</td>\n",
       "      <td>NaN</td>\n",
       "      <td>20679.0</td>\n",
       "      <td>43.0</td>\n",
       "      <td>2.0</td>\n",
       "      <td>1.0</td>\n",
       "      <td>1.0</td>\n",
       "      <td>0.0</td>\n",
       "      <td>0.0</td>\n",
       "      <td>0.0</td>\n",
       "      <td>0.0</td>\n",
       "      <td>0.0</td>\n",
       "      <td>20160331</td>\n",
       "      <td>BCH</td>\n",
       "      <td>NaN</td>\n",
       "      <td>G</td>\n",
       "      <td>O</td>\n",
       "      <td>U</td>\n",
       "      <td>M</td>\n",
       "      <td>1973.0</td>\n",
       "      <td>09302016</td>\n",
       "      <td>M</td>\n",
       "      <td>NaN</td>\n",
       "      <td>KL</td>\n",
       "      <td>9.238009e+10</td>\n",
       "      <td>661</td>\n",
       "      <td>B2</td>\n",
       "    </tr>\n",
       "    <tr>\n",
       "      <th>13</th>\n",
       "      <td>45.0</td>\n",
       "      <td>2016.0</td>\n",
       "      <td>6.0</td>\n",
       "      <td>127.0</td>\n",
       "      <td>127.0</td>\n",
       "      <td>HOU</td>\n",
       "      <td>20617.0</td>\n",
       "      <td>1.0</td>\n",
       "      <td>TX</td>\n",
       "      <td>20679.0</td>\n",
       "      <td>69.0</td>\n",
       "      <td>2.0</td>\n",
       "      <td>1.0</td>\n",
       "      <td>1.0</td>\n",
       "      <td>0.0</td>\n",
       "      <td>0.0</td>\n",
       "      <td>0.0</td>\n",
       "      <td>0.0</td>\n",
       "      <td>0.0</td>\n",
       "      <td>20160331</td>\n",
       "      <td>BCH</td>\n",
       "      <td>NaN</td>\n",
       "      <td>G</td>\n",
       "      <td>O</td>\n",
       "      <td>U</td>\n",
       "      <td>M</td>\n",
       "      <td>1947.0</td>\n",
       "      <td>12112016</td>\n",
       "      <td>F</td>\n",
       "      <td>NaN</td>\n",
       "      <td>KL</td>\n",
       "      <td>9.237991e+10</td>\n",
       "      <td>661</td>\n",
       "      <td>B2</td>\n",
       "    </tr>\n",
       "    <tr>\n",
       "      <th>14</th>\n",
       "      <td>52.0</td>\n",
       "      <td>2016.0</td>\n",
       "      <td>6.0</td>\n",
       "      <td>101.0</td>\n",
       "      <td>101.0</td>\n",
       "      <td>BOS</td>\n",
       "      <td>20606.0</td>\n",
       "      <td>1.0</td>\n",
       "      <td>MA</td>\n",
       "      <td>20608.0</td>\n",
       "      <td>31.0</td>\n",
       "      <td>1.0</td>\n",
       "      <td>1.0</td>\n",
       "      <td>1.0</td>\n",
       "      <td>0.0</td>\n",
       "      <td>0.0</td>\n",
       "      <td>0.0</td>\n",
       "      <td>0.0</td>\n",
       "      <td>0.0</td>\n",
       "      <td>20160601</td>\n",
       "      <td>NaN</td>\n",
       "      <td>NaN</td>\n",
       "      <td>O</td>\n",
       "      <td>N</td>\n",
       "      <td>NaN</td>\n",
       "      <td>M</td>\n",
       "      <td>1985.0</td>\n",
       "      <td>11302016</td>\n",
       "      <td>NaN</td>\n",
       "      <td>NaN</td>\n",
       "      <td>AA</td>\n",
       "      <td>9.790577e+10</td>\n",
       "      <td>00147</td>\n",
       "      <td>B1</td>\n",
       "    </tr>\n",
       "  </tbody>\n",
       "</table>\n",
       "</div>"
      ],
      "text/plain": [
       "    cicid   i94yr  i94mon  i94cit  i94res i94port  arrdate  i94mode i94addr  \\\n",
       "0     4.0  2016.0     6.0   135.0   135.0     XXX  20612.0      NaN     NaN   \n",
       "1     5.0  2016.0     6.0   135.0   135.0     XXX  20612.0      NaN     NaN   \n",
       "2     6.0  2016.0     6.0   213.0   213.0     XXX  20609.0      NaN     NaN   \n",
       "3     7.0  2016.0     6.0   213.0   213.0     XXX  20611.0      NaN     NaN   \n",
       "4    16.0  2016.0     6.0   245.0   245.0     XXX  20632.0      NaN     NaN   \n",
       "5    19.0  2016.0     6.0   254.0   276.0     XXX  20612.0      NaN     NaN   \n",
       "6    27.0  2016.0     6.0   343.0   343.0     XXX  20611.0      NaN     NaN   \n",
       "7    33.0  2016.0     6.0   582.0   582.0     XXX  20612.0      NaN     NaN   \n",
       "8    38.0  2016.0     6.0   687.0   687.0     XXX  20623.0      NaN     NaN   \n",
       "9    39.0  2016.0     6.0   694.0   694.0     XXX  20611.0      NaN     NaN   \n",
       "10   41.0  2016.0     6.0   254.0   276.0     SFR  20623.0      1.0      CA   \n",
       "11   42.0  2016.0     6.0   254.0   276.0     SFR  20623.0      1.0      CA   \n",
       "12   44.0  2016.0     6.0   127.0   127.0     HOU  20617.0      1.0     NaN   \n",
       "13   45.0  2016.0     6.0   127.0   127.0     HOU  20617.0      1.0      TX   \n",
       "14   52.0  2016.0     6.0   101.0   101.0     BOS  20606.0      1.0      MA   \n",
       "\n",
       "    depdate  i94bir  i94visa  count  validres  delete_days  delete_mexl  \\\n",
       "0       NaN    59.0      2.0    1.0       1.0          0.0          0.0   \n",
       "1       NaN    50.0      2.0    1.0       1.0          0.0          0.0   \n",
       "2       NaN    27.0      3.0    1.0       1.0          0.0          0.0   \n",
       "3       NaN    23.0      3.0    1.0       1.0          0.0          0.0   \n",
       "4       NaN    24.0      3.0    1.0       1.0          0.0          0.0   \n",
       "5       NaN    21.0      3.0    1.0       1.0          0.0          0.0   \n",
       "6       NaN    32.0      3.0    1.0       1.0          0.0          0.0   \n",
       "7       NaN    18.0      3.0    1.0       1.0          0.0          0.0   \n",
       "8       NaN    19.0      1.0    1.0       1.0          0.0          0.0   \n",
       "9       NaN    20.0      3.0    1.0       1.0          0.0          0.0   \n",
       "10      NaN    22.0      3.0    1.0       1.0          0.0          0.0   \n",
       "11      NaN    27.0      3.0    1.0       1.0          0.0          0.0   \n",
       "12  20679.0    43.0      2.0    1.0       1.0          0.0          0.0   \n",
       "13  20679.0    69.0      2.0    1.0       1.0          0.0          0.0   \n",
       "14  20608.0    31.0      1.0    1.0       1.0          0.0          0.0   \n",
       "\n",
       "    delete_dup  delete_visa  delete_recdup  dtadfile visapost occup entdepa  \\\n",
       "0          0.0          0.0            0.0       NaN      NaN   NaN       Z   \n",
       "1          0.0          0.0            0.0       NaN      NaN   NaN       Z   \n",
       "2          0.0          0.0            0.0       NaN      NaN   NaN       T   \n",
       "3          0.0          0.0            0.0       NaN      NaN   NaN       T   \n",
       "4          0.0          0.0            0.0       NaN      NaN   NaN       T   \n",
       "5          0.0          0.0            0.0       NaN      NaN   NaN       T   \n",
       "6          0.0          0.0            0.0       NaN      NaN   NaN       T   \n",
       "7          0.0          0.0            0.0       NaN      NaN   NaN       T   \n",
       "8          0.0          0.0            0.0       NaN      NaN   NaN       U   \n",
       "9          0.0          0.0            0.0       NaN      NaN   NaN       U   \n",
       "10         0.0          0.0            0.0  20160103      SEO   NaN       G   \n",
       "11         0.0          0.0            0.0  20160131      SEO   STU       G   \n",
       "12         0.0          0.0            0.0  20160331      BCH   NaN       G   \n",
       "13         0.0          0.0            0.0  20160331      BCH   NaN       G   \n",
       "14         0.0          0.0            0.0  20160601      NaN   NaN       O   \n",
       "\n",
       "   entdepd entdepu matflag  biryear   dtaddto gender insnum airline  \\\n",
       "0      NaN       U     NaN   1957.0  10032016    NaN    NaN     NaN   \n",
       "1      NaN       U     NaN   1966.0  10032016    NaN    NaN     NaN   \n",
       "2      NaN       U     NaN   1989.0       D/S    NaN    NaN     NaN   \n",
       "3      NaN       U     NaN   1993.0       D/S    NaN    NaN     NaN   \n",
       "4      NaN       U     NaN   1992.0       D/S    NaN    NaN     NaN   \n",
       "5      NaN       U     NaN   1995.0       D/S    NaN    NaN     NaN   \n",
       "6      NaN       U     NaN   1984.0       D/S    NaN    NaN     NaN   \n",
       "7      NaN       U     NaN   1998.0       D/S    NaN    NaN     NaN   \n",
       "8      NaN       U     NaN   1997.0  06172018    NaN    NaN     NaN   \n",
       "9      NaN       U     NaN   1996.0  04162017    NaN    NaN     NaN   \n",
       "10     NaN       U     NaN   1994.0       D/S      F    NaN      KE   \n",
       "11     NaN       U     NaN   1989.0       D/S      M    NaN      KE   \n",
       "12       O       U       M   1973.0  09302016      M    NaN      KL   \n",
       "13       O       U       M   1947.0  12112016      F    NaN      KL   \n",
       "14       N     NaN       M   1985.0  11302016    NaN    NaN      AA   \n",
       "\n",
       "          admnum  fltno visatype  \n",
       "0   1.493846e+10    NaN       WT  \n",
       "1   1.746006e+10    NaN       WT  \n",
       "2   1.679298e+09    NaN       F1  \n",
       "3   1.140963e+09    NaN       F1  \n",
       "4   1.934535e+09    NaN       F1  \n",
       "5   1.148758e+09    NaN       F1  \n",
       "6   1.152545e+09    NaN       F1  \n",
       "7   1.150900e+09    NaN       F2  \n",
       "8   3.575378e+10    NaN       E2  \n",
       "9   1.142101e+09    NaN       M1  \n",
       "10  8.432352e+10  00023       F1  \n",
       "11  8.694424e+10  00023       F1  \n",
       "12  9.238009e+10    661       B2  \n",
       "13  9.237991e+10    661       B2  \n",
       "14  9.790577e+10  00147       B1  "
      ]
     },
     "execution_count": 4,
     "metadata": {},
     "output_type": "execute_result"
    }
   ],
   "source": [
    "pd.options.display.max_columns = None\n",
    "immigration.head(15)"
   ]
  },
  {
   "cell_type": "code",
   "execution_count": 5,
   "metadata": {
    "editable": true
   },
   "outputs": [
    {
     "data": {
      "text/plain": [
       "Index(['cicid', 'i94yr', 'i94mon', 'i94cit', 'i94res', 'i94port', 'arrdate',\n",
       "       'i94mode', 'i94addr', 'depdate', 'i94bir', 'i94visa', 'count',\n",
       "       'validres', 'delete_days', 'delete_mexl', 'delete_dup', 'delete_visa',\n",
       "       'delete_recdup', 'dtadfile', 'visapost', 'occup', 'entdepa', 'entdepd',\n",
       "       'entdepu', 'matflag', 'biryear', 'dtaddto', 'gender', 'insnum',\n",
       "       'airline', 'admnum', 'fltno', 'visatype'],\n",
       "      dtype='object')"
      ]
     },
     "execution_count": 5,
     "metadata": {},
     "output_type": "execute_result"
    }
   ],
   "source": [
    "# Have a look at all the columns\n",
    "immigration.columns"
   ]
  },
  {
   "cell_type": "code",
   "execution_count": 6,
   "metadata": {
    "editable": true
   },
   "outputs": [
    {
     "data": {
      "text/html": [
       "<div>\n",
       "<style scoped>\n",
       "    .dataframe tbody tr th:only-of-type {\n",
       "        vertical-align: middle;\n",
       "    }\n",
       "\n",
       "    .dataframe tbody tr th {\n",
       "        vertical-align: top;\n",
       "    }\n",
       "\n",
       "    .dataframe thead th {\n",
       "        text-align: right;\n",
       "    }\n",
       "</style>\n",
       "<table border=\"1\" class=\"dataframe\">\n",
       "  <thead>\n",
       "    <tr style=\"text-align: right;\">\n",
       "      <th></th>\n",
       "      <th>cicid</th>\n",
       "      <th>i94yr</th>\n",
       "      <th>i94mon</th>\n",
       "      <th>i94cit</th>\n",
       "      <th>i94res</th>\n",
       "      <th>arrdate</th>\n",
       "      <th>i94mode</th>\n",
       "      <th>depdate</th>\n",
       "      <th>i94bir</th>\n",
       "      <th>i94visa</th>\n",
       "      <th>count</th>\n",
       "      <th>validres</th>\n",
       "      <th>delete_days</th>\n",
       "      <th>delete_mexl</th>\n",
       "      <th>delete_dup</th>\n",
       "      <th>delete_visa</th>\n",
       "      <th>delete_recdup</th>\n",
       "      <th>biryear</th>\n",
       "      <th>admnum</th>\n",
       "    </tr>\n",
       "  </thead>\n",
       "  <tbody>\n",
       "    <tr>\n",
       "      <th>count</th>\n",
       "      <td>3.574989e+06</td>\n",
       "      <td>3574989.0</td>\n",
       "      <td>3574989.0</td>\n",
       "      <td>3.574469e+06</td>\n",
       "      <td>3.574989e+06</td>\n",
       "      <td>3.574989e+06</td>\n",
       "      <td>3.513802e+06</td>\n",
       "      <td>3.287918e+06</td>\n",
       "      <td>3.574350e+06</td>\n",
       "      <td>3.574989e+06</td>\n",
       "      <td>3574989.0</td>\n",
       "      <td>3574989.0</td>\n",
       "      <td>3574989.0</td>\n",
       "      <td>3574989.0</td>\n",
       "      <td>3574989.0</td>\n",
       "      <td>3574989.0</td>\n",
       "      <td>3574989.0</td>\n",
       "      <td>3.574350e+06</td>\n",
       "      <td>3.574989e+06</td>\n",
       "    </tr>\n",
       "    <tr>\n",
       "      <th>mean</th>\n",
       "      <td>3.258526e+06</td>\n",
       "      <td>2016.0</td>\n",
       "      <td>6.0</td>\n",
       "      <td>3.162554e+02</td>\n",
       "      <td>3.148681e+02</td>\n",
       "      <td>2.062085e+04</td>\n",
       "      <td>1.070240e+00</td>\n",
       "      <td>2.063585e+04</td>\n",
       "      <td>4.030389e+01</td>\n",
       "      <td>1.885480e+00</td>\n",
       "      <td>1.0</td>\n",
       "      <td>1.0</td>\n",
       "      <td>0.0</td>\n",
       "      <td>0.0</td>\n",
       "      <td>0.0</td>\n",
       "      <td>0.0</td>\n",
       "      <td>0.0</td>\n",
       "      <td>1.975696e+03</td>\n",
       "      <td>6.891172e+10</td>\n",
       "    </tr>\n",
       "    <tr>\n",
       "      <th>std</th>\n",
       "      <td>1.888572e+06</td>\n",
       "      <td>0.0</td>\n",
       "      <td>0.0</td>\n",
       "      <td>2.090522e+02</td>\n",
       "      <td>2.071219e+02</td>\n",
       "      <td>8.782430e+00</td>\n",
       "      <td>4.343662e-01</td>\n",
       "      <td>1.979676e+01</td>\n",
       "      <td>1.810871e+01</td>\n",
       "      <td>3.806378e-01</td>\n",
       "      <td>0.0</td>\n",
       "      <td>0.0</td>\n",
       "      <td>0.0</td>\n",
       "      <td>0.0</td>\n",
       "      <td>0.0</td>\n",
       "      <td>0.0</td>\n",
       "      <td>0.0</td>\n",
       "      <td>1.810871e+01</td>\n",
       "      <td>2.863461e+10</td>\n",
       "    </tr>\n",
       "    <tr>\n",
       "      <th>min</th>\n",
       "      <td>4.000000e+00</td>\n",
       "      <td>2016.0</td>\n",
       "      <td>6.0</td>\n",
       "      <td>1.010000e+02</td>\n",
       "      <td>1.010000e+02</td>\n",
       "      <td>2.060600e+04</td>\n",
       "      <td>1.000000e+00</td>\n",
       "      <td>1.880400e+04</td>\n",
       "      <td>0.000000e+00</td>\n",
       "      <td>1.000000e+00</td>\n",
       "      <td>1.0</td>\n",
       "      <td>1.0</td>\n",
       "      <td>0.0</td>\n",
       "      <td>0.0</td>\n",
       "      <td>0.0</td>\n",
       "      <td>0.0</td>\n",
       "      <td>0.0</td>\n",
       "      <td>1.900000e+03</td>\n",
       "      <td>0.000000e+00</td>\n",
       "    </tr>\n",
       "    <tr>\n",
       "      <th>25%</th>\n",
       "      <td>1.625393e+06</td>\n",
       "      <td>2016.0</td>\n",
       "      <td>6.0</td>\n",
       "      <td>1.350000e+02</td>\n",
       "      <td>1.350000e+02</td>\n",
       "      <td>2.061300e+04</td>\n",
       "      <td>1.000000e+00</td>\n",
       "      <td>2.062300e+04</td>\n",
       "      <td>2.700000e+01</td>\n",
       "      <td>2.000000e+00</td>\n",
       "      <td>1.0</td>\n",
       "      <td>1.0</td>\n",
       "      <td>0.0</td>\n",
       "      <td>0.0</td>\n",
       "      <td>0.0</td>\n",
       "      <td>0.0</td>\n",
       "      <td>0.0</td>\n",
       "      <td>1.962000e+03</td>\n",
       "      <td>6.163465e+10</td>\n",
       "    </tr>\n",
       "    <tr>\n",
       "      <th>50%</th>\n",
       "      <td>3.275808e+06</td>\n",
       "      <td>2016.0</td>\n",
       "      <td>6.0</td>\n",
       "      <td>2.450000e+02</td>\n",
       "      <td>2.450000e+02</td>\n",
       "      <td>2.062100e+04</td>\n",
       "      <td>1.000000e+00</td>\n",
       "      <td>2.063200e+04</td>\n",
       "      <td>4.000000e+01</td>\n",
       "      <td>2.000000e+00</td>\n",
       "      <td>1.0</td>\n",
       "      <td>1.0</td>\n",
       "      <td>0.0</td>\n",
       "      <td>0.0</td>\n",
       "      <td>0.0</td>\n",
       "      <td>0.0</td>\n",
       "      <td>0.0</td>\n",
       "      <td>1.976000e+03</td>\n",
       "      <td>6.259342e+10</td>\n",
       "    </tr>\n",
       "    <tr>\n",
       "      <th>75%</th>\n",
       "      <td>4.949151e+06</td>\n",
       "      <td>2016.0</td>\n",
       "      <td>6.0</td>\n",
       "      <td>5.250000e+02</td>\n",
       "      <td>5.160000e+02</td>\n",
       "      <td>2.062900e+04</td>\n",
       "      <td>1.000000e+00</td>\n",
       "      <td>2.064300e+04</td>\n",
       "      <td>5.400000e+01</td>\n",
       "      <td>2.000000e+00</td>\n",
       "      <td>1.0</td>\n",
       "      <td>1.0</td>\n",
       "      <td>0.0</td>\n",
       "      <td>0.0</td>\n",
       "      <td>0.0</td>\n",
       "      <td>0.0</td>\n",
       "      <td>0.0</td>\n",
       "      <td>1.989000e+03</td>\n",
       "      <td>9.857318e+10</td>\n",
       "    </tr>\n",
       "    <tr>\n",
       "      <th>max</th>\n",
       "      <td>6.432838e+06</td>\n",
       "      <td>2016.0</td>\n",
       "      <td>6.0</td>\n",
       "      <td>9.990000e+02</td>\n",
       "      <td>7.600000e+02</td>\n",
       "      <td>2.063500e+04</td>\n",
       "      <td>9.000000e+00</td>\n",
       "      <td>2.074500e+04</td>\n",
       "      <td>1.160000e+02</td>\n",
       "      <td>3.000000e+00</td>\n",
       "      <td>1.0</td>\n",
       "      <td>1.0</td>\n",
       "      <td>0.0</td>\n",
       "      <td>0.0</td>\n",
       "      <td>0.0</td>\n",
       "      <td>0.0</td>\n",
       "      <td>0.0</td>\n",
       "      <td>2.016000e+03</td>\n",
       "      <td>1.000000e+11</td>\n",
       "    </tr>\n",
       "  </tbody>\n",
       "</table>\n",
       "</div>"
      ],
      "text/plain": [
       "              cicid      i94yr     i94mon        i94cit        i94res  \\\n",
       "count  3.574989e+06  3574989.0  3574989.0  3.574469e+06  3.574989e+06   \n",
       "mean   3.258526e+06     2016.0        6.0  3.162554e+02  3.148681e+02   \n",
       "std    1.888572e+06        0.0        0.0  2.090522e+02  2.071219e+02   \n",
       "min    4.000000e+00     2016.0        6.0  1.010000e+02  1.010000e+02   \n",
       "25%    1.625393e+06     2016.0        6.0  1.350000e+02  1.350000e+02   \n",
       "50%    3.275808e+06     2016.0        6.0  2.450000e+02  2.450000e+02   \n",
       "75%    4.949151e+06     2016.0        6.0  5.250000e+02  5.160000e+02   \n",
       "max    6.432838e+06     2016.0        6.0  9.990000e+02  7.600000e+02   \n",
       "\n",
       "            arrdate       i94mode       depdate        i94bir       i94visa  \\\n",
       "count  3.574989e+06  3.513802e+06  3.287918e+06  3.574350e+06  3.574989e+06   \n",
       "mean   2.062085e+04  1.070240e+00  2.063585e+04  4.030389e+01  1.885480e+00   \n",
       "std    8.782430e+00  4.343662e-01  1.979676e+01  1.810871e+01  3.806378e-01   \n",
       "min    2.060600e+04  1.000000e+00  1.880400e+04  0.000000e+00  1.000000e+00   \n",
       "25%    2.061300e+04  1.000000e+00  2.062300e+04  2.700000e+01  2.000000e+00   \n",
       "50%    2.062100e+04  1.000000e+00  2.063200e+04  4.000000e+01  2.000000e+00   \n",
       "75%    2.062900e+04  1.000000e+00  2.064300e+04  5.400000e+01  2.000000e+00   \n",
       "max    2.063500e+04  9.000000e+00  2.074500e+04  1.160000e+02  3.000000e+00   \n",
       "\n",
       "           count   validres  delete_days  delete_mexl  delete_dup  \\\n",
       "count  3574989.0  3574989.0    3574989.0    3574989.0   3574989.0   \n",
       "mean         1.0        1.0          0.0          0.0         0.0   \n",
       "std          0.0        0.0          0.0          0.0         0.0   \n",
       "min          1.0        1.0          0.0          0.0         0.0   \n",
       "25%          1.0        1.0          0.0          0.0         0.0   \n",
       "50%          1.0        1.0          0.0          0.0         0.0   \n",
       "75%          1.0        1.0          0.0          0.0         0.0   \n",
       "max          1.0        1.0          0.0          0.0         0.0   \n",
       "\n",
       "       delete_visa  delete_recdup       biryear        admnum  \n",
       "count    3574989.0      3574989.0  3.574350e+06  3.574989e+06  \n",
       "mean           0.0            0.0  1.975696e+03  6.891172e+10  \n",
       "std            0.0            0.0  1.810871e+01  2.863461e+10  \n",
       "min            0.0            0.0  1.900000e+03  0.000000e+00  \n",
       "25%            0.0            0.0  1.962000e+03  6.163465e+10  \n",
       "50%            0.0            0.0  1.976000e+03  6.259342e+10  \n",
       "75%            0.0            0.0  1.989000e+03  9.857318e+10  \n",
       "max            0.0            0.0  2.016000e+03  1.000000e+11  "
      ]
     },
     "execution_count": 6,
     "metadata": {},
     "output_type": "execute_result"
    }
   ],
   "source": [
    "# Have a quick look at different statistics of the table\n",
    "immigration.describe()"
   ]
  },
  {
   "cell_type": "code",
   "execution_count": 192,
   "metadata": {
    "editable": true
   },
   "outputs": [],
   "source": [
    "# Read using spark\n",
    "spark = SparkSession.builder\\\n",
    "        .config(\"spark.jars.repositories\", \"https://repos.spark-packages.org/\")\\\n",
    "        .config(\"spark.jars.packages\", \"org.apache.hadoop:hadoop-aws:2.7.0,saurfang:spark-sas7bdat:2.0.0-s_2.11\")\\\n",
    "        .enableHiveSupport().getOrCreate()"
   ]
  },
  {
   "cell_type": "code",
   "execution_count": 193,
   "metadata": {
    "editable": true
   },
   "outputs": [],
   "source": [
    "# Then setup the sparkContext object\n",
    "sc = spark.sparkContext\n",
    "sc._jsc.hadoopConfiguration().set(\"fs.s3a.access.key\", AWS_ACCESS_KEY_ID)\n",
    "sc._jsc.hadoopConfiguration().set(\"fs.s3a.secret.key\", AWS_SECRET_ACCESS_KEY)"
   ]
  },
  {
   "cell_type": "code",
   "execution_count": 184,
   "metadata": {
    "editable": true
   },
   "outputs": [
    {
     "data": {
      "text/plain": [
       "['../../data/18-83510-I94-Data-2016/i94_apr16_sub.sas7bdat',\n",
       " '../../data/18-83510-I94-Data-2016/i94_sep16_sub.sas7bdat',\n",
       " '../../data/18-83510-I94-Data-2016/i94_nov16_sub.sas7bdat',\n",
       " '../../data/18-83510-I94-Data-2016/i94_mar16_sub.sas7bdat',\n",
       " '../../data/18-83510-I94-Data-2016/i94_jun16_sub.sas7bdat',\n",
       " '../../data/18-83510-I94-Data-2016/i94_aug16_sub.sas7bdat',\n",
       " '../../data/18-83510-I94-Data-2016/i94_may16_sub.sas7bdat',\n",
       " '../../data/18-83510-I94-Data-2016/i94_jan16_sub.sas7bdat',\n",
       " '../../data/18-83510-I94-Data-2016/i94_oct16_sub.sas7bdat',\n",
       " '../../data/18-83510-I94-Data-2016/i94_jul16_sub.sas7bdat',\n",
       " '../../data/18-83510-I94-Data-2016/i94_feb16_sub.sas7bdat',\n",
       " '../../data/18-83510-I94-Data-2016/i94_dec16_sub.sas7bdat']"
      ]
     },
     "execution_count": 184,
     "metadata": {},
     "output_type": "execute_result"
    }
   ],
   "source": [
    "#file_location = os.path.join(\"../../data/18-83510-I94-Data-2016/*.sas7bdat\")\n",
    "#import glob\n",
    "# absolute path to search all text files inside a specific folder\n",
    "path = r'../../data/18-83510-I94-Data-2016/*.sas7bdat'\n",
    "files = glob.glob(path, recursive=True)\n",
    "file_location = os.path.join(\"../../data/18-83510-I94-Data-2016/i94_jun16_sub.sas7bdat\")\n",
    "files"
   ]
  },
  {
   "cell_type": "code",
   "execution_count": 185,
   "metadata": {
    "editable": true
   },
   "outputs": [
    {
     "name": "stdout",
     "output_type": "stream",
     "text": [
      "['apr', 'sep', 'nov', 'mar', 'jun', 'aug', 'may', 'jan', 'oct', 'jul', 'feb', 'dec']\n",
      "['16', '16', '16', '16', '16', '16', '16', '16', '16', '16', '16', '16']\n"
     ]
    }
   ],
   "source": [
    "months = []\n",
    "years = []\n",
    "for file in files:\n",
    "    parts = file.split(\"/\")\n",
    "    year_month_str = parts[-1].split(\"_\")[1]\n",
    "    month = year_month_str[:3]\n",
    "    year = year_month_str[3:5]\n",
    "    months.append(month)\n",
    "    years.append(year)\n",
    "print(months)\n",
    "print(years)"
   ]
  },
  {
   "cell_type": "code",
   "execution_count": 124,
   "metadata": {
    "editable": true
   },
   "outputs": [],
   "source": []
  },
  {
   "cell_type": "code",
   "execution_count": 194,
   "metadata": {
    "editable": true
   },
   "outputs": [],
   "source": [
    "# Get all the column names\n",
    "immigration_spark = spark.read.format('com.github.saurfang.sas.spark').load(files[0])\n",
    "colnames = []\n",
    "for col in immigration_spark.dtypes:\n",
    "    colnames.append(col[0])"
   ]
  },
  {
   "cell_type": "code",
   "execution_count": 187,
   "metadata": {
    "editable": true
   },
   "outputs": [
    {
     "data": {
      "text/plain": [
       "28"
      ]
     },
     "execution_count": 187,
     "metadata": {},
     "output_type": "execute_result"
    }
   ],
   "source": [
    "len(colnames)"
   ]
  },
  {
   "cell_type": "code",
   "execution_count": 206,
   "metadata": {
    "editable": true
   },
   "outputs": [],
   "source": [
    "# immigration_spark = spark.read.format('com.github.saurfang.sas.spark').load(file_location)\n",
    "#immigration_spark_2 = spark.read.format('com.github.saurfang.sas.spark').load(files[4])\n",
    "\n",
    "new_colnames = []\n",
    "#for col in immigration_spark_2.dtypes:\n",
    "    #new_colnames.append(col[0])"
   ]
  },
  {
   "cell_type": "code",
   "execution_count": 207,
   "metadata": {
    "editable": true
   },
   "outputs": [
    {
     "data": {
      "text/plain": [
       "0"
      ]
     },
     "execution_count": 207,
     "metadata": {},
     "output_type": "execute_result"
    }
   ],
   "source": [
    "len(new_colnames)"
   ]
  },
  {
   "cell_type": "code",
   "execution_count": 208,
   "metadata": {
    "editable": true
   },
   "outputs": [
    {
     "data": {
      "text/plain": [
       "[]"
      ]
     },
     "execution_count": 208,
     "metadata": {},
     "output_type": "execute_result"
    }
   ],
   "source": [
    "remove_columns = []\n",
    "result = set(new_colnames).difference(colnames)\n",
    "remove_columns = list(result)\n",
    "remove_columns"
   ]
  },
  {
   "cell_type": "code",
   "execution_count": 110,
   "metadata": {
    "editable": true
   },
   "outputs": [],
   "source": [
    "#remove_columns[0#"
   ]
  },
  {
   "cell_type": "code",
   "execution_count": 81,
   "metadata": {
    "editable": true
   },
   "outputs": [],
   "source": [
    "#immigration_spark = spark.read.format('com.github.saurfang.sas.spark').load(files[0])\n",
    "#for file in files[1:]:\n",
    "    #immigration_spark = immigration_spark.union(spark.read.format('com.github.saurfang.sas.spark').load(file)) # This doesn';t work as different files have different number of columns"
   ]
  },
  {
   "cell_type": "code",
   "execution_count": 166,
   "metadata": {
    "editable": true
   },
   "outputs": [
    {
     "data": {
      "text/plain": [
       "pyspark.sql.dataframe.DataFrame"
      ]
     },
     "execution_count": 166,
     "metadata": {},
     "output_type": "execute_result"
    }
   ],
   "source": [
    "type(immigration_spark)"
   ]
  },
  {
   "cell_type": "code",
   "execution_count": 204,
   "metadata": {
    "editable": true
   },
   "outputs": [],
   "source": [
    "fact_immigration = immigration_spark.distinct()\\\n",
    "                         .withColumn(\"immigration_id\", monotonically_increasing_id())"
   ]
  },
  {
   "cell_type": "code",
   "execution_count": 168,
   "metadata": {
    "editable": true
   },
   "outputs": [
    {
     "name": "stdout",
     "output_type": "stream",
     "text": [
      "+------+------+------+------+------+-------+-------+-------+-------+-------+------+-------+-----+--------+--------+-----+-------+-------+-------+-------+-------+--------+------+------+-------+---------------+-----+--------+--------------+\n",
      "| cicid| i94yr|i94mon|i94cit|i94res|i94port|arrdate|i94mode|i94addr|depdate|i94bir|i94visa|count|dtadfile|visapost|occup|entdepa|entdepd|entdepu|matflag|biryear| dtaddto|gender|insnum|airline|         admnum|fltno|visatype|immigration_id|\n",
      "+------+------+------+------+------+-------+-------+-------+-------+-------+------+-------+-----+--------+--------+-----+-------+-------+-------+-------+-------+--------+------+------+-------+---------------+-----+--------+--------------+\n",
      "| 474.0|2016.0|   4.0| 103.0| 103.0|    NEW|20545.0|    2.0|   null|20547.0|  25.0|    2.0|  1.0|20160401|    null| null|      G|      O|   null|      M| 1991.0|06292016|     F|  null|    VES|5.5410441233E10|91285|      WT|             0|\n",
      "|1508.0|2016.0|   4.0| 104.0| 104.0|    NYC|20545.0|    1.0|     NY|20552.0|  16.0|    2.0|  1.0|20160401|    null| null|      G|      O|   null|      M| 2000.0|06292016|     F|  null|     LX|5.5416411533E10|00016|      WT|             1|\n",
      "|1669.0|2016.0|   4.0| 104.0| 104.0|    NYC|20545.0|    1.0|     FL|20561.0|  57.0|    2.0|  1.0|20160401|    null| null|      G|      O|   null|      M| 1959.0|06292016|     M|  null|     AA|5.5457751333E10|00039|      WT|             2|\n",
      "|2025.0|2016.0|   4.0| 104.0| 104.0|    NYC|20545.0|    1.0|     NY|20549.0|  51.0|    2.0|  1.0|20160401|    null| null|      O|      O|   null|      M| 1965.0|06292016|  null|  null|     SN|5.5419979133E10|01401|      WT|             3|\n",
      "|2048.0|2016.0|   4.0| 104.0| 104.0|    MIA|20545.0|    1.0|     FL|20554.0|   3.0|    2.0|  1.0|20160401|    null| null|      O|      O|   null|      M| 2013.0|06292016|  null|  null|     UX|5.5456895133E10|00097|      WT|             4|\n",
      "+------+------+------+------+------+-------+-------+-------+-------+-------+------+-------+-----+--------+--------+-----+-------+-------+-------+-------+-------+--------+------+------+-------+---------------+-----+--------+--------------+\n",
      "only showing top 5 rows\n",
      "\n"
     ]
    }
   ],
   "source": [
    "# Show the 5 top rows\n",
    "fact_immigration.show(n=5)"
   ]
  },
  {
   "cell_type": "markdown",
   "metadata": {
    "editable": true
   },
   "source": [
    "### This is where I am getting error -- I need help here. The code below worked before but not anymore"
   ]
  },
  {
   "cell_type": "code",
   "execution_count": 210,
   "metadata": {
    "editable": true
   },
   "outputs": [
    {
     "ename": "TypeError",
     "evalue": "'tuple' object is not callable",
     "output_type": "error",
     "traceback": [
      "\u001b[0;31m---------------------------------------------------------------------------\u001b[0m",
      "\u001b[0;31mTypeError\u001b[0m                                 Traceback (most recent call last)",
      "\u001b[0;32m<ipython-input-210-44d571746e48>\u001b[0m in \u001b[0;36m<module>\u001b[0;34m()\u001b[0m\n\u001b[0;32m----> 1\u001b[0;31m \u001b[0mfact_immigration\u001b[0m \u001b[0;34m=\u001b[0m \u001b[0mfact_immigration\u001b[0m\u001b[0;34m.\u001b[0m\u001b[0mwithColumn\u001b[0m\u001b[0;34m(\u001b[0m\u001b[0;34m\"year\"\u001b[0m\u001b[0;34m,\u001b[0m \u001b[0mcol\u001b[0m\u001b[0;34m(\u001b[0m\u001b[0;34m\"i94yr\"\u001b[0m\u001b[0;34m)\u001b[0m\u001b[0;34m.\u001b[0m\u001b[0mcast\u001b[0m\u001b[0;34m(\u001b[0m\u001b[0;34m\"integer\"\u001b[0m\u001b[0;34m)\u001b[0m\u001b[0;34m)\u001b[0m\u001b[0;34m\u001b[0m\u001b[0m\n\u001b[0m",
      "\u001b[0;31mTypeError\u001b[0m: 'tuple' object is not callable"
     ]
    }
   ],
   "source": [
    "fact_immigration = fact_immigration.withColumn(\"year\", col(\"i94yr\").cast(\"integer\"))"
   ]
  },
  {
   "cell_type": "code",
   "execution_count": 209,
   "metadata": {
    "editable": true
   },
   "outputs": [
    {
     "ename": "TypeError",
     "evalue": "'tuple' object is not callable",
     "output_type": "error",
     "traceback": [
      "\u001b[0;31m---------------------------------------------------------------------------\u001b[0m",
      "\u001b[0;31mTypeError\u001b[0m                                 Traceback (most recent call last)",
      "\u001b[0;32m<ipython-input-209-76fcd021fa93>\u001b[0m in \u001b[0;36m<module>\u001b[0;34m()\u001b[0m\n\u001b[0;32m----> 1\u001b[0;31m \u001b[0mfact_immigration\u001b[0m \u001b[0;34m=\u001b[0m \u001b[0mfact_immigration\u001b[0m\u001b[0;34m.\u001b[0m\u001b[0mwithColumn\u001b[0m\u001b[0;34m(\u001b[0m\u001b[0;34m\"month\"\u001b[0m\u001b[0;34m,\u001b[0m \u001b[0mcol\u001b[0m\u001b[0;34m(\u001b[0m\u001b[0;34m\"i94mon\"\u001b[0m\u001b[0;34m)\u001b[0m\u001b[0;34m.\u001b[0m\u001b[0mcast\u001b[0m\u001b[0;34m(\u001b[0m\u001b[0;34m\"integer\"\u001b[0m\u001b[0;34m)\u001b[0m\u001b[0;34m)\u001b[0m\u001b[0;34m\u001b[0m\u001b[0m\n\u001b[0m",
      "\u001b[0;31mTypeError\u001b[0m: 'tuple' object is not callable"
     ]
    }
   ],
   "source": [
    "fact_immigration = fact_immigration.withColumn(\"month\", col(\"i94mon\").cast(\"integer\"))"
   ]
  },
  {
   "cell_type": "code",
   "execution_count": null,
   "metadata": {
    "editable": true
   },
   "outputs": [],
   "source": []
  },
  {
   "cell_type": "markdown",
   "metadata": {
    "editable": true
   },
   "source": [
    "### The below code is also giving error. The code below worked before but not anymore"
   ]
  },
  {
   "cell_type": "code",
   "execution_count": 202,
   "metadata": {
    "editable": true
   },
   "outputs": [
    {
     "ename": "SyntaxError",
     "evalue": "invalid syntax (<ipython-input-202-bcbefb07df35>, line 2)",
     "output_type": "error",
     "traceback": [
      "\u001b[0;36m  File \u001b[0;32m\"<ipython-input-202-bcbefb07df35>\"\u001b[0;36m, line \u001b[0;32m2\u001b[0m\n\u001b[0;31m    .withColumn(\"data_base_sas\", to_date(lit(\"01/01/1960\"), \"MM/dd/yyyy\")).withColumn(\"arrival_date\", expr(\"date_add(data_base_sas, arrdate)\")).withColumn(\"mode_code\", col(\"i94mode\").cast(\"integer\")).withColumnRenamed(\"i94addr\", \"state_code\").withColumn(\"departure_date\", expr(\"date_add(data_base_sas, depdate)\")).withColumn(\"age\", col(\"i94bir\").cast(\"integer\"))\u001b[0m\n\u001b[0m    ^\u001b[0m\n\u001b[0;31mSyntaxError\u001b[0m\u001b[0;31m:\u001b[0m invalid syntax\n"
     ]
    }
   ],
   "source": [
    "immigration_reshaped = fact_immigration\\\n",
    ".withColumn(\"year\", col(\"i94yr\").cast(\"integer\"))\\\n",
    ".withColumn(\"month\", col(\"i94mon\").cast(\"integer\"))\\\n",
    ".withColumn(\"city_code\", col(\"i94cit\").cast(\"integer\"))\\\n",
    ".withColumn(\"origin_country_code\", col(\"i94res\").cast(\"integer\"))\\\n",
    ".withColumnRenamed(\"i94port\", \"port_code\")\n",
    ".withColumn(\"data_base_sas\", to_date(lit(\"01/01/1960\"), \"MM/dd/yyyy\"))\\\n",
    ".withColumn(\"arrival_date\", expr(\"date_add(data_base_sas, arrdate)\"))\\\n",
    ".withColumn(\"mode_code\", col(\"i94mode\").cast(\"integer\"))\\\n",
    ".withColumnRenamed(\"i94addr\", \"state_code\")\\\n",
    ".withColumn(\"departure_date\", expr(\"date_add(data_base_sas, depdate)\"))\\\n",
    ".withColumn(\"age\", col(\"i94bir\").cast(\"integer\")).withColumn(\"visa_code\", col(\"i94visa\").cast(\"integer\")).withColumn(\"birth_year\", col(\"biryear\").cast(\"integer\")).drop(\"i94yr\", \"i94mon\", \"i94cit\", \"i94res\", \"data_base_sas\", \"arrdate\", \"i94mode\", \"depdate\", \"i94bir\", \"i94visa\", \"biryear\")"
   ]
  },
  {
   "cell_type": "code",
   "execution_count": 83,
   "metadata": {
    "editable": true
   },
   "outputs": [
    {
     "name": "stdout",
     "output_type": "stream",
     "text": [
      "+-----+---------+----------+-----+--------+-----------+-----------+----------+-----------+-------------+--------+--------+-----+-------+-------+-------+-------+--------+------+------+-------+---------------+-----+--------+--------------+----+-----+---------+-------------------+------------+---------+--------------+---+---------+----------+\n",
      "|cicid|port_code|state_code|count|validres|delete_days|delete_mexl|delete_dup|delete_visa|delete_recdup|dtadfile|visapost|occup|entdepa|entdepd|entdepu|matflag| dtaddto|gender|insnum|airline|         admnum|fltno|visatype|immigration_id|year|month|city_code|origin_country_code|arrival_date|mode_code|departure_date|age|visa_code|birth_year|\n",
      "+-----+---------+----------+-----+--------+-----------+-----------+----------+-----------+-------------+--------+--------+-----+-------+-------+-------+-------+--------+------+------+-------+---------------+-----+--------+--------------+----+-----+---------+-------------------+------------+---------+--------------+---+---------+----------+\n",
      "|245.0|      NYC|        NY|  1.0|     1.0|        0.0|        0.0|       0.0|        0.0|          0.0|20160601|    null| null|      G|      O|   null|      M|08292016|     F|  null|     OS|6.1311562733E10|00087|      WT|             0|2016|    6|      103|                103|  2016-06-01|        1|    2016-06-08| 51|        2|      1965|\n",
      "|350.0|      CHI|        IL|  1.0|     1.0|        0.0|        0.0|       0.0|        0.0|          0.0|20160601|    null| null|      G|      O|   null|      M|08292016|     F|  null|     OS|6.1322423333E10|00065|      WB|             1|2016|    6|      103|                103|  2016-06-01|        1|    2016-06-10| 32|        1|      1984|\n",
      "|366.0|      CHI|        IL|  1.0|     1.0|        0.0|        0.0|       0.0|        0.0|          0.0|20160601|    null| null|      O|      O|   null|      M|08292016|  null|  null|     OS|6.1309659733E10|00065|      WB|             2|2016|    6|      103|                103|  2016-06-01|        1|    2016-06-06| 42|        1|      1974|\n",
      "|395.0|      CHI|        TX|  1.0|     1.0|        0.0|        0.0|       0.0|        0.0|          0.0|20160601|    null| null|      G|      O|   null|      M|08292016|     M|  null|     OS|6.1320876033E10|00065|      WT|             3|2016|    6|      103|                103|  2016-06-01|        1|    2016-06-17| 19|        2|      1997|\n",
      "|541.0|      PHI|        FL|  1.0|     1.0|        0.0|        0.0|       0.0|        0.0|          0.0|20160601|    null| null|      G|      O|   null|      M|08292016|     M|  null|     AA|6.1310559933E10|00717|      WT|             4|2016|    6|      103|                112|  2016-06-01|        1|    2016-06-19| 42|        2|      1974|\n",
      "+-----+---------+----------+-----+--------+-----------+-----------+----------+-----------+-------------+--------+--------+-----+-------+-------+-------+-------+--------+------+------+-------+---------------+-----+--------+--------------+----+-----+---------+-------------------+------------+---------+--------------+---+---------+----------+\n",
      "only showing top 5 rows\n",
      "\n"
     ]
    }
   ],
   "source": [
    "fact_immigration_reshaped.show(n=5)"
   ]
  },
  {
   "cell_type": "code",
   "execution_count": 64,
   "metadata": {
    "editable": true
   },
   "outputs": [],
   "source": [
    "#output_data = \"s3a://aws-logs-608251643021-us-west-2/elasticmapreduce/\"\n",
    "#fact_immigration_reshaped.write.mode(\"overwrite\").parquet(\"{}final_project/fact_immigration.parquet\".format(output_data))"
   ]
  },
  {
   "cell_type": "code",
   "execution_count": 211,
   "metadata": {
    "editable": true
   },
   "outputs": [
    {
     "ename": "TypeError",
     "evalue": "'tuple' object is not callable",
     "output_type": "error",
     "traceback": [
      "\u001b[0;31m---------------------------------------------------------------------------\u001b[0m",
      "\u001b[0;31mTypeError\u001b[0m                                 Traceback (most recent call last)",
      "\u001b[0;32m<ipython-input-211-44d571746e48>\u001b[0m in \u001b[0;36m<module>\u001b[0;34m()\u001b[0m\n\u001b[0;32m----> 1\u001b[0;31m \u001b[0mfact_immigration\u001b[0m \u001b[0;34m=\u001b[0m \u001b[0mfact_immigration\u001b[0m\u001b[0;34m.\u001b[0m\u001b[0mwithColumn\u001b[0m\u001b[0;34m(\u001b[0m\u001b[0;34m\"year\"\u001b[0m\u001b[0;34m,\u001b[0m \u001b[0mcol\u001b[0m\u001b[0;34m(\u001b[0m\u001b[0;34m\"i94yr\"\u001b[0m\u001b[0;34m)\u001b[0m\u001b[0;34m.\u001b[0m\u001b[0mcast\u001b[0m\u001b[0;34m(\u001b[0m\u001b[0;34m\"integer\"\u001b[0m\u001b[0;34m)\u001b[0m\u001b[0;34m)\u001b[0m\u001b[0;34m\u001b[0m\u001b[0m\n\u001b[0m",
      "\u001b[0;31mTypeError\u001b[0m: 'tuple' object is not callable"
     ]
    }
   ],
   "source": [
    "fact_immigration = fact_immigration.withColumn(\"year\", col(\"i94yr\").cast(\"integer\"))"
   ]
  },
  {
   "cell_type": "code",
   "execution_count": 212,
   "metadata": {
    "editable": true
   },
   "outputs": [
    {
     "ename": "TypeError",
     "evalue": "'tuple' object is not callable",
     "output_type": "error",
     "traceback": [
      "\u001b[0;31m---------------------------------------------------------------------------\u001b[0m",
      "\u001b[0;31mTypeError\u001b[0m                                 Traceback (most recent call last)",
      "\u001b[0;32m<ipython-input-212-eb78f2f06e96>\u001b[0m in \u001b[0;36m<module>\u001b[0;34m()\u001b[0m\n\u001b[0;32m----> 1\u001b[0;31m \u001b[0mfact_immigration\u001b[0m \u001b[0;34m=\u001b[0m \u001b[0mfact_immigration\u001b[0m\u001b[0;34m.\u001b[0m\u001b[0mwithColumn\u001b[0m\u001b[0;34m(\u001b[0m\u001b[0;34m\"month\"\u001b[0m\u001b[0;34m,\u001b[0m \u001b[0mcol\u001b[0m\u001b[0;34m(\u001b[0m\u001b[0;34m\"i94mon\"\u001b[0m\u001b[0;34m)\u001b[0m\u001b[0;34m.\u001b[0m\u001b[0mcast\u001b[0m\u001b[0;34m(\u001b[0m\u001b[0;34m\"integer\"\u001b[0m\u001b[0;34m)\u001b[0m\u001b[0;34m)\u001b[0m\u001b[0;34m\u001b[0m\u001b[0m\n\u001b[0m\u001b[1;32m      2\u001b[0m \u001b[0;31m# fact_immigration = fact_immigration.withColumnRenamed(\"i94port\", \"port_code\") \\\u001b[0m\u001b[0;34m\u001b[0m\u001b[0;34m\u001b[0m\u001b[0m\n",
      "\u001b[0;31mTypeError\u001b[0m: 'tuple' object is not callable"
     ]
    }
   ],
   "source": [
    "fact_immigration = fact_immigration.withColumn(\"month\", col(\"i94mon\").cast(\"integer\"))\n",
    "# fact_immigration = fact_immigration.withColumnRenamed(\"i94port\", \"port_code\") \\"
   ]
  },
  {
   "cell_type": "code",
   "execution_count": 213,
   "metadata": {
    "editable": true
   },
   "outputs": [],
   "source": [
    "new_colnames = []\n",
    "for col in fact_immigration.dtypes:\n",
    "    new_colnames.append(col[0])"
   ]
  },
  {
   "cell_type": "code",
   "execution_count": 214,
   "metadata": {
    "editable": true
   },
   "outputs": [
    {
     "data": {
      "text/plain": [
       "['cicid',\n",
       " 'i94yr',\n",
       " 'i94mon',\n",
       " 'i94cit',\n",
       " 'i94res',\n",
       " 'i94port',\n",
       " 'arrdate',\n",
       " 'i94mode',\n",
       " 'i94addr',\n",
       " 'depdate',\n",
       " 'i94bir',\n",
       " 'i94visa',\n",
       " 'count',\n",
       " 'dtadfile',\n",
       " 'visapost',\n",
       " 'occup',\n",
       " 'entdepa',\n",
       " 'entdepd',\n",
       " 'entdepu',\n",
       " 'matflag',\n",
       " 'biryear',\n",
       " 'dtaddto',\n",
       " 'gender',\n",
       " 'insnum',\n",
       " 'airline',\n",
       " 'admnum',\n",
       " 'fltno',\n",
       " 'visatype',\n",
       " 'immigration_id']"
      ]
     },
     "execution_count": 214,
     "metadata": {},
     "output_type": "execute_result"
    }
   ],
   "source": [
    "new_colnames"
   ]
  },
  {
   "cell_type": "code",
   "execution_count": 215,
   "metadata": {
    "editable": true
   },
   "outputs": [
    {
     "ename": "TypeError",
     "evalue": "'tuple' object is not callable",
     "output_type": "error",
     "traceback": [
      "\u001b[0;31m---------------------------------------------------------------------------\u001b[0m",
      "\u001b[0;31mTypeError\u001b[0m                                 Traceback (most recent call last)",
      "\u001b[0;32m<ipython-input-215-52ff03c10ad5>\u001b[0m in \u001b[0;36m<module>\u001b[0;34m()\u001b[0m\n\u001b[0;32m----> 1\u001b[0;31m \u001b[0mimmigration_reshaped\u001b[0m \u001b[0;34m=\u001b[0m \u001b[0mfact_immigration\u001b[0m\u001b[0;34m.\u001b[0m\u001b[0mwithColumn\u001b[0m\u001b[0;34m(\u001b[0m\u001b[0;34m\"year\"\u001b[0m\u001b[0;34m,\u001b[0m \u001b[0mcol\u001b[0m\u001b[0;34m(\u001b[0m\u001b[0;34m\"i94yr\"\u001b[0m\u001b[0;34m)\u001b[0m\u001b[0;34m.\u001b[0m\u001b[0mcast\u001b[0m\u001b[0;34m(\u001b[0m\u001b[0;34m\"integer\"\u001b[0m\u001b[0;34m)\u001b[0m\u001b[0;34m)\u001b[0m\u001b[0;34m.\u001b[0m\u001b[0mwithColumn\u001b[0m\u001b[0;34m(\u001b[0m\u001b[0;34m\"month\"\u001b[0m\u001b[0;34m,\u001b[0m \u001b[0mcol\u001b[0m\u001b[0;34m(\u001b[0m\u001b[0;34m\"i94mon\"\u001b[0m\u001b[0;34m)\u001b[0m\u001b[0;34m.\u001b[0m\u001b[0mcast\u001b[0m\u001b[0;34m(\u001b[0m\u001b[0;34m\"integer\"\u001b[0m\u001b[0;34m)\u001b[0m\u001b[0;34m)\u001b[0m\u001b[0;34m.\u001b[0m\u001b[0mwithColumn\u001b[0m\u001b[0;34m(\u001b[0m\u001b[0;34m\"city_code\"\u001b[0m\u001b[0;34m,\u001b[0m \u001b[0mcol\u001b[0m\u001b[0;34m(\u001b[0m\u001b[0;34m\"i94cit\"\u001b[0m\u001b[0;34m)\u001b[0m\u001b[0;34m.\u001b[0m\u001b[0mcast\u001b[0m\u001b[0;34m(\u001b[0m\u001b[0;34m\"integer\"\u001b[0m\u001b[0;34m)\u001b[0m\u001b[0;34m)\u001b[0m\u001b[0;34m.\u001b[0m\u001b[0mwithColumn\u001b[0m\u001b[0;34m(\u001b[0m\u001b[0;34m\"origin_country_code\"\u001b[0m\u001b[0;34m,\u001b[0m \u001b[0mcol\u001b[0m\u001b[0;34m(\u001b[0m\u001b[0;34m\"i94res\"\u001b[0m\u001b[0;34m)\u001b[0m\u001b[0;34m.\u001b[0m\u001b[0mcast\u001b[0m\u001b[0;34m(\u001b[0m\u001b[0;34m\"integer\"\u001b[0m\u001b[0;34m)\u001b[0m\u001b[0;34m)\u001b[0m\u001b[0;34m.\u001b[0m\u001b[0mwithColumnRenamed\u001b[0m\u001b[0;34m(\u001b[0m\u001b[0;34m\"i94port\"\u001b[0m\u001b[0;34m,\u001b[0m \u001b[0;34m\"port_code\"\u001b[0m\u001b[0;34m)\u001b[0m\u001b[0;34m.\u001b[0m\u001b[0mwithColumn\u001b[0m\u001b[0;34m(\u001b[0m\u001b[0;34m\"data_base_sas\"\u001b[0m\u001b[0;34m,\u001b[0m \u001b[0mto_date\u001b[0m\u001b[0;34m(\u001b[0m\u001b[0mlit\u001b[0m\u001b[0;34m(\u001b[0m\u001b[0;34m\"01/01/1960\"\u001b[0m\u001b[0;34m)\u001b[0m\u001b[0;34m,\u001b[0m \u001b[0;34m\"MM/dd/yyyy\"\u001b[0m\u001b[0;34m)\u001b[0m\u001b[0;34m)\u001b[0m\u001b[0;34m.\u001b[0m\u001b[0mwithColumn\u001b[0m\u001b[0;34m(\u001b[0m\u001b[0;34m\"arrival_date\"\u001b[0m\u001b[0;34m,\u001b[0m \u001b[0mexpr\u001b[0m\u001b[0;34m(\u001b[0m\u001b[0;34m\"date_add(data_base_sas, arrdate)\"\u001b[0m\u001b[0;34m)\u001b[0m\u001b[0;34m)\u001b[0m\u001b[0;34m.\u001b[0m\u001b[0mwithColumn\u001b[0m\u001b[0;34m(\u001b[0m\u001b[0;34m\"mode_code\"\u001b[0m\u001b[0;34m,\u001b[0m \u001b[0mcol\u001b[0m\u001b[0;34m(\u001b[0m\u001b[0;34m\"i94mode\"\u001b[0m\u001b[0;34m)\u001b[0m\u001b[0;34m.\u001b[0m\u001b[0mcast\u001b[0m\u001b[0;34m(\u001b[0m\u001b[0;34m\"integer\"\u001b[0m\u001b[0;34m)\u001b[0m\u001b[0;34m)\u001b[0m\u001b[0;34m.\u001b[0m\u001b[0mwithColumnRenamed\u001b[0m\u001b[0;34m(\u001b[0m\u001b[0;34m\"i94addr\"\u001b[0m\u001b[0;34m,\u001b[0m \u001b[0;34m\"state_code\"\u001b[0m\u001b[0;34m)\u001b[0m\u001b[0;34m.\u001b[0m\u001b[0mwithColumn\u001b[0m\u001b[0;34m(\u001b[0m\u001b[0;34m\"departure_date\"\u001b[0m\u001b[0;34m,\u001b[0m \u001b[0mexpr\u001b[0m\u001b[0;34m(\u001b[0m\u001b[0;34m\"date_add(data_base_sas, depdate)\"\u001b[0m\u001b[0;34m)\u001b[0m\u001b[0;34m)\u001b[0m\u001b[0;34m.\u001b[0m\u001b[0mwithColumn\u001b[0m\u001b[0;34m(\u001b[0m\u001b[0;34m\"age\"\u001b[0m\u001b[0;34m,\u001b[0m \u001b[0mcol\u001b[0m\u001b[0;34m(\u001b[0m\u001b[0;34m\"i94bir\"\u001b[0m\u001b[0;34m)\u001b[0m\u001b[0;34m.\u001b[0m\u001b[0mcast\u001b[0m\u001b[0;34m(\u001b[0m\u001b[0;34m\"integer\"\u001b[0m\u001b[0;34m)\u001b[0m\u001b[0;34m)\u001b[0m\u001b[0;34m.\u001b[0m\u001b[0mwithColumn\u001b[0m\u001b[0;34m(\u001b[0m\u001b[0;34m\"visa_code\"\u001b[0m\u001b[0;34m,\u001b[0m \u001b[0mcol\u001b[0m\u001b[0;34m(\u001b[0m\u001b[0;34m\"i94visa\"\u001b[0m\u001b[0;34m)\u001b[0m\u001b[0;34m.\u001b[0m\u001b[0mcast\u001b[0m\u001b[0;34m(\u001b[0m\u001b[0;34m\"integer\"\u001b[0m\u001b[0;34m)\u001b[0m\u001b[0;34m)\u001b[0m\u001b[0;34m.\u001b[0m\u001b[0mwithColumn\u001b[0m\u001b[0;34m(\u001b[0m\u001b[0;34m\"birth_year\"\u001b[0m\u001b[0;34m,\u001b[0m \u001b[0mcol\u001b[0m\u001b[0;34m(\u001b[0m\u001b[0;34m\"biryear\"\u001b[0m\u001b[0;34m)\u001b[0m\u001b[0;34m.\u001b[0m\u001b[0mcast\u001b[0m\u001b[0;34m(\u001b[0m\u001b[0;34m\"integer\"\u001b[0m\u001b[0;34m)\u001b[0m\u001b[0;34m)\u001b[0m\u001b[0;34m.\u001b[0m\u001b[0mdrop\u001b[0m\u001b[0;34m(\u001b[0m\u001b[0;34m\"i94yr\"\u001b[0m\u001b[0;34m,\u001b[0m \u001b[0;34m\"i94mon\"\u001b[0m\u001b[0;34m,\u001b[0m \u001b[0;34m\"i94cit\"\u001b[0m\u001b[0;34m,\u001b[0m \u001b[0;34m\"i94res\"\u001b[0m\u001b[0;34m,\u001b[0m \u001b[0;34m\"data_base_sas\"\u001b[0m\u001b[0;34m,\u001b[0m \u001b[0;34m\"arrdate\"\u001b[0m\u001b[0;34m,\u001b[0m \u001b[0;34m\"i94mode\"\u001b[0m\u001b[0;34m,\u001b[0m \u001b[0;34m\"depdate\"\u001b[0m\u001b[0;34m,\u001b[0m \u001b[0;34m\"i94bir\"\u001b[0m\u001b[0;34m,\u001b[0m \u001b[0;34m\"i94visa\"\u001b[0m\u001b[0;34m,\u001b[0m \u001b[0;34m\"biryear\"\u001b[0m\u001b[0;34m)\u001b[0m\u001b[0;34m\u001b[0m\u001b[0m\n\u001b[0m",
      "\u001b[0;31mTypeError\u001b[0m: 'tuple' object is not callable"
     ]
    }
   ],
   "source": [
    "immigration_reshaped = fact_immigration.withColumn(\"year\", col(\"i94yr\").cast(\"integer\")).withColumn(\"month\", col(\"i94mon\").cast(\"integer\")).withColumn(\"city_code\", col(\"i94cit\").cast(\"integer\")).withColumn(\"origin_country_code\", col(\"i94res\").cast(\"integer\")).withColumnRenamed(\"i94port\", \"port_code\").withColumn(\"data_base_sas\", to_date(lit(\"01/01/1960\"), \"MM/dd/yyyy\"))\\\n",
    ".withColumn(\"arrival_date\", expr(\"date_add(data_base_sas, arrdate)\")).withColumn(\"mode_code\", col(\"i94mode\").cast(\"integer\")).withColumnRenamed(\"i94addr\", \"state_code\").withColumn(\"departure_date\", expr(\"date_add(data_base_sas, depdate)\")).withColumn(\"age\", col(\"i94bir\").cast(\"integer\")).withColumn(\"visa_code\", col(\"i94visa\").cast(\"integer\")).withColumn(\"birth_year\", col(\"biryear\").cast(\"integer\")).drop(\"i94yr\", \"i94mon\", \"i94cit\", \"i94res\", \"data_base_sas\", \"arrdate\", \"i94mode\", \"depdate\", \"i94bir\", \"i94visa\", \"biryear\")"
   ]
  },
  {
   "cell_type": "code",
   "execution_count": null,
   "metadata": {
    "editable": true
   },
   "outputs": [],
   "source": []
  }
 ],
 "metadata": {
  "kernelspec": {
   "display_name": "Python 3",
   "language": "python",
   "name": "python3"
  },
  "language_info": {
   "codemirror_mode": {
    "name": "ipython",
    "version": 3
   },
   "file_extension": ".py",
   "mimetype": "text/x-python",
   "name": "python",
   "nbconvert_exporter": "python",
   "pygments_lexer": "ipython3",
   "version": "3.6.3"
  }
 },
 "nbformat": 4,
 "nbformat_minor": 4
}
